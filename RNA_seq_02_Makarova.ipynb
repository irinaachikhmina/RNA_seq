{
  "nbformat": 4,
  "nbformat_minor": 0,
  "metadata": {
    "colab": {
      "provenance": [],
      "authorship_tag": "ABX9TyPxdTVrBKaCbOEkBR2ve3hH"
    },
    "kernelspec": {
      "name": "python3",
      "display_name": "Python 3"
    },
    "language_info": {
      "name": "python"
    }
  },
  "cells": [
    {
      "cell_type": "markdown",
      "source": [
        "# Hisat2, Stringtie, Rsubread\n",
        "### Ира Макарова\n",
        "### декабрь 2022\n",
        "\n"
      ],
      "metadata": {
        "id": "_hAlpVwkB7w8"
      }
    },
    {
      "cell_type": "code",
      "execution_count": null,
      "metadata": {
        "colab": {
          "base_uri": "https://localhost:8080/"
        },
        "id": "Rq-GWra-JKdy",
        "outputId": "9e77d6fb-cf11-456d-ebcf-294c8be3083d"
      },
      "outputs": [
        {
          "output_type": "stream",
          "name": "stdout",
          "text": [
            "Drive already mounted at /content/drive; to attempt to forcibly remount, call drive.mount(\"/content/drive\", force_remount=True).\n"
          ]
        }
      ],
      "source": [
        "from google.colab import drive\n",
        "drive.mount('/content/drive')"
      ]
    },
    {
      "cell_type": "code",
      "source": [
        "!pip install -q condacolab\n",
        "import condacolab\n",
        "condacolab.install()"
      ],
      "metadata": {
        "id": "17PGwDHjfaVb"
      },
      "execution_count": null,
      "outputs": []
    },
    {
      "cell_type": "code",
      "source": [
        "!conda install -y -c bioconda hisat2"
      ],
      "metadata": {
        "id": "o8-isHUwidog"
      },
      "execution_count": null,
      "outputs": []
    },
    {
      "cell_type": "code",
      "source": [
        "!conda install -y -c bioconda samtools"
      ],
      "metadata": {
        "id": "Wd51ulGxidrw"
      },
      "execution_count": null,
      "outputs": []
    },
    {
      "cell_type": "code",
      "source": [
        "!conda install -c \"bioconda/label/cf201901\" stringtie"
      ],
      "metadata": {
        "id": "xXFegzE2V3bb"
      },
      "execution_count": null,
      "outputs": []
    },
    {
      "cell_type": "code",
      "source": [
        "import pandas as pd\n",
        "from scipy import stats\n",
        "import seaborn as sns\n",
        "import matplotlib.pyplot as plt\n",
        "import numpy as np\n",
        "from sklearn.decomposition import PCA"
      ],
      "metadata": {
        "id": "tmxtM9R6y6MH"
      },
      "execution_count": null,
      "outputs": []
    },
    {
      "cell_type": "markdown",
      "source": [
        "## Картирование образцов при помощи hisat2"
      ],
      "metadata": {
        "id": "A20_8SWTmAbK"
      }
    },
    {
      "cell_type": "code",
      "source": [
        "!mkdir index\n",
        "!mkdir bams\n",
        "!mkdir transcripts\n",
        "!mkdir bin\n",
        "%cd index"
      ],
      "metadata": {
        "id": "NvoOdRONmRO_"
      },
      "execution_count": null,
      "outputs": []
    },
    {
      "cell_type": "code",
      "source": [
        "# Фаста\n",
        "!wget http://ftp.ensembl.org/pub/release-107/fasta/mus_musculus/dna/Mus_musculus.GRCm39.dna.chromosome.19.fa.gz"
      ],
      "metadata": {
        "colab": {
          "base_uri": "https://localhost:8080/"
        },
        "id": "94aVhn-BmlMS",
        "outputId": "311829f7-19c9-4e09-d3f0-07d30bb43533"
      },
      "execution_count": null,
      "outputs": [
        {
          "output_type": "stream",
          "name": "stdout",
          "text": [
            "--2022-12-23 15:25:08--  http://ftp.ensembl.org/pub/release-107/fasta/mus_musculus/dna/Mus_musculus.GRCm39.dna.chromosome.19.fa.gz\n",
            "Resolving ftp.ensembl.org (ftp.ensembl.org)... 193.62.193.139\n",
            "Connecting to ftp.ensembl.org (ftp.ensembl.org)|193.62.193.139|:80... connected.\n",
            "HTTP request sent, awaiting response... 200 OK\n",
            "Length: 17732438 (17M) [application/x-gzip]\n",
            "Saving to: ‘Mus_musculus.GRCm39.dna.chromosome.19.fa.gz’\n",
            "\n",
            "Mus_musculus.GRCm39 100%[===================>]  16.91M   462KB/s    in 38s     \n",
            "\n",
            "2022-12-23 15:25:47 (453 KB/s) - ‘Mus_musculus.GRCm39.dna.chromosome.19.fa.gz’ saved [17732438/17732438]\n",
            "\n"
          ]
        }
      ]
    },
    {
      "cell_type": "code",
      "source": [
        "# Аннотация\n",
        "!wget http://ftp.ensembl.org/pub/release-107/gtf/mus_musculus/Mus_musculus.GRCm39.107.chr.gtf.gz"
      ],
      "metadata": {
        "colab": {
          "base_uri": "https://localhost:8080/"
        },
        "id": "GzeceavtmlQH",
        "outputId": "3a697684-51e8-4e0d-cdad-94200db394b3"
      },
      "execution_count": null,
      "outputs": [
        {
          "output_type": "stream",
          "name": "stdout",
          "text": [
            "--2022-12-23 15:26:53--  http://ftp.ensembl.org/pub/release-107/gtf/mus_musculus/Mus_musculus.GRCm39.107.chr.gtf.gz\n",
            "Resolving ftp.ensembl.org (ftp.ensembl.org)... 193.62.193.139\n",
            "Connecting to ftp.ensembl.org (ftp.ensembl.org)|193.62.193.139|:80... connected.\n",
            "HTTP request sent, awaiting response... 200 OK\n",
            "Length: 31854002 (30M) [application/x-gzip]\n",
            "Saving to: ‘Mus_musculus.GRCm39.107.chr.gtf.gz’\n",
            "\n",
            "Mus_musculus.GRCm39 100%[===================>]  30.38M   451KB/s    in 69s     \n",
            "\n",
            "2022-12-23 15:28:03 (450 KB/s) - ‘Mus_musculus.GRCm39.107.chr.gtf.gz’ saved [31854002/31854002]\n",
            "\n"
          ]
        }
      ]
    },
    {
      "cell_type": "code",
      "source": [
        "# Разархивируем\n",
        "!gunzip ./*\n",
        "!ls -lh"
      ],
      "metadata": {
        "colab": {
          "base_uri": "https://localhost:8080/"
        },
        "id": "8IMGSVXpmlXl",
        "outputId": "d40c8e31-14a6-43ab-8ea3-b9a1482df7bb"
      },
      "execution_count": null,
      "outputs": [
        {
          "output_type": "stream",
          "name": "stdout",
          "text": [
            "gzip: ./Mus_musculus.GRCm39.107.chr.gtf: unknown suffix -- ignored\n",
            "total 891M\n",
            "-rw-r--r-- 1 root root 831M Jun  4  2022 Mus_musculus.GRCm39.107.chr.gtf\n",
            "-rw-r--r-- 1 root root  60M Jun  4  2022 Mus_musculus.GRCm39.dna.chromosome.19.fa\n"
          ]
        }
      ]
    },
    {
      "cell_type": "code",
      "source": [
        "# 19 хромосома\n",
        "!grep -P '^19\\t' Mus_musculus.GRCm39.107.chr.gtf > Mus_musculus.GRCm39.107.chr19.gtf"
      ],
      "metadata": {
        "id": "HYq0hZSEnBMA"
      },
      "execution_count": null,
      "outputs": []
    },
    {
      "cell_type": "code",
      "source": [
        "# Строим индекс (без сайтов, аннотацию будем использовать на следующем шаге)\n",
        "!hisat2-build Mus_musculus.GRCm39.dna.chromosome.19.fa Mus_musculus.GRCm39.dna.chromosome.19"
      ],
      "metadata": {
        "colab": {
          "base_uri": "https://localhost:8080/"
        },
        "id": "UTlDvOmpmWiQ",
        "outputId": "9e9731f3-4405-4e02-d2b0-52c4a4a902e6"
      },
      "execution_count": null,
      "outputs": [
        {
          "output_type": "stream",
          "name": "stdout",
          "text": [
            "Settings:\n",
            "  Output files: \"Mus_musculus.GRCm39.dna.chromosome.19.*.ht2\"\n",
            "  Line rate: 6 (line is 64 bytes)\n",
            "  Lines per side: 1 (side is 64 bytes)\n",
            "  Offset rate: 4 (one in 16)\n",
            "  FTable chars: 10\n",
            "  Strings: unpacked\n",
            "  Local offset rate: 3 (one in 8)\n",
            "  Local fTable chars: 6\n",
            "  Local sequence length: 57344\n",
            "  Local sequence overlap between two consecutive indexes: 1024\n",
            "  Endianness: little\n",
            "  Actual local endianness: little\n",
            "  Sanity checking: disabled\n",
            "  Assertions: disabled\n",
            "  Random seed: 0\n",
            "  Sizeofs: void*:8, int:4, long:8, size_t:8\n",
            "Input files DNA, FASTA:\n",
            "  Mus_musculus.GRCm39.dna.chromosome.19.fa\n",
            "Reading reference sizes\n",
            "  Time reading reference sizes: 00:00:01\n",
            "Calculating joined length\n",
            "Writing header\n",
            "Reserving space for joined string\n",
            "Joining reference sequences\n",
            "  Time to join reference sequences: 00:00:00\n",
            "  Time to read SNPs and splice sites: 00:00:00\n",
            "Using parameters --bmax 10916251 --dcv 1024\n",
            "  Doing ahead-of-time memory usage test\n",
            "  Passed!  Constructing with these parameters: --bmax 10916251 --dcv 1024\n",
            "Constructing suffix-array element generator\n",
            "Building DifferenceCoverSample\n",
            "  Building sPrime\n",
            "  Building sPrimeOrder\n",
            "  V-Sorting samples\n",
            "  V-Sorting samples time: 00:00:01\n",
            "  Allocating rank array\n",
            "  Ranking v-sort output\n",
            "  Ranking v-sort output time: 00:00:01\n",
            "  Invoking Larsson-Sadakane on ranks\n",
            "  Invoking Larsson-Sadakane on ranks time: 00:00:00\n",
            "  Sanity-checking and returning\n",
            "Building samples\n",
            "Reserving space for 12 sample suffixes\n",
            "Generating random suffixes\n",
            "QSorting 12 sample offsets, eliminating duplicates\n",
            "QSorting sample offsets, eliminating duplicates time: 00:00:00\n",
            "Multikey QSorting 12 samples\n",
            "  (Using difference cover)\n",
            "  Multikey QSorting samples time: 00:00:00\n",
            "Calculating bucket sizes\n",
            "Splitting and merging\n",
            "  Splitting and merging time: 00:00:00\n",
            "Avg bucket size: 8.31714e+06 (target: 10916250)\n",
            "Converting suffix-array elements to index image\n",
            "Allocating ftab, absorbFtab\n",
            "Entering GFM loop\n",
            "Getting block 1 of 7\n",
            "  Reserving size (10916251) for bucket 1\n",
            "  Calculating Z arrays for bucket 1\n",
            "  Entering block accumulator loop for bucket 1:\n",
            "  bucket 1: 10%\n",
            "  bucket 1: 20%\n",
            "  bucket 1: 30%\n",
            "  bucket 1: 40%\n",
            "  bucket 1: 50%\n",
            "  bucket 1: 60%\n",
            "  bucket 1: 70%\n",
            "  bucket 1: 80%\n",
            "  bucket 1: 90%\n",
            "  bucket 1: 100%\n",
            "  Sorting block of length 8286876 for bucket 1\n",
            "  (Using difference cover)\n",
            "  Sorting block time: 00:00:03\n",
            "Returning block of 8286877 for bucket 1\n",
            "Getting block 2 of 7\n",
            "  Reserving size (10916251) for bucket 2\n",
            "  Calculating Z arrays for bucket 2\n",
            "  Entering block accumulator loop for bucket 2:\n",
            "  bucket 2: 10%\n",
            "  bucket 2: 20%\n",
            "  bucket 2: 30%\n",
            "  bucket 2: 40%\n",
            "  bucket 2: 50%\n",
            "  bucket 2: 60%\n",
            "  bucket 2: 70%\n",
            "  bucket 2: 80%\n",
            "  bucket 2: 90%\n",
            "  bucket 2: 100%\n",
            "  Sorting block of length 10857377 for bucket 2\n",
            "  (Using difference cover)\n",
            "  Sorting block time: 00:00:05\n",
            "Returning block of 10857378 for bucket 2\n",
            "Getting block 3 of 7\n",
            "  Reserving size (10916251) for bucket 3\n",
            "  Calculating Z arrays for bucket 3\n",
            "  Entering block accumulator loop for bucket 3:\n",
            "  bucket 3: 10%\n",
            "  bucket 3: 20%\n",
            "  bucket 3: 30%\n",
            "  bucket 3: 40%\n",
            "  bucket 3: 50%\n",
            "  bucket 3: 60%\n",
            "  bucket 3: 70%\n",
            "  bucket 3: 80%\n",
            "  bucket 3: 90%\n",
            "  bucket 3: 100%\n",
            "  Sorting block of length 10554111 for bucket 3\n",
            "  (Using difference cover)\n",
            "  Sorting block time: 00:00:04\n",
            "Returning block of 10554112 for bucket 3\n",
            "Getting block 4 of 7\n",
            "  Reserving size (10916251) for bucket 4\n",
            "  Calculating Z arrays for bucket 4\n",
            "  Entering block accumulator loop for bucket 4:\n",
            "  bucket 4: 10%\n",
            "  bucket 4: 20%\n",
            "  bucket 4: 30%\n",
            "  bucket 4: 40%\n",
            "  bucket 4: 50%\n",
            "  bucket 4: 60%\n",
            "  bucket 4: 70%\n",
            "  bucket 4: 80%\n",
            "  bucket 4: 90%\n",
            "  bucket 4: 100%\n",
            "  Sorting block of length 4600643 for bucket 4\n",
            "  (Using difference cover)\n",
            "  Sorting block time: 00:00:02\n",
            "Returning block of 4600644 for bucket 4\n",
            "Getting block 5 of 7\n",
            "  Reserving size (10916251) for bucket 5\n",
            "  Calculating Z arrays for bucket 5\n",
            "  Entering block accumulator loop for bucket 5:\n",
            "  bucket 5: 10%\n",
            "  bucket 5: 20%\n",
            "  bucket 5: 30%\n",
            "  bucket 5: 40%\n",
            "  bucket 5: 50%\n",
            "  bucket 5: 60%\n",
            "  bucket 5: 70%\n",
            "  bucket 5: 80%\n",
            "  bucket 5: 90%\n",
            "  bucket 5: 100%\n",
            "  Sorting block of length 7464214 for bucket 5\n",
            "  (Using difference cover)\n",
            "  Sorting block time: 00:00:03\n",
            "Returning block of 7464215 for bucket 5\n",
            "Getting block 6 of 7\n",
            "  Reserving size (10916251) for bucket 6\n",
            "  Calculating Z arrays for bucket 6\n",
            "  Entering block accumulator loop for bucket 6:\n",
            "  bucket 6: 10%\n",
            "  bucket 6: 20%\n",
            "  bucket 6: 30%\n",
            "  bucket 6: 40%\n",
            "  bucket 6: 50%\n",
            "  bucket 6: 60%\n",
            "  bucket 6: 70%\n",
            "  bucket 6: 80%\n",
            "  bucket 6: 90%\n",
            "  bucket 6: 100%\n",
            "  Sorting block of length 8905610 for bucket 6\n",
            "  (Using difference cover)\n",
            "  Sorting block time: 00:00:04\n",
            "Returning block of 8905611 for bucket 6\n",
            "Getting block 7 of 7\n",
            "  Reserving size (10916251) for bucket 7\n",
            "  Calculating Z arrays for bucket 7\n",
            "  Entering block accumulator loop for bucket 7:\n",
            "  bucket 7: 10%\n",
            "  bucket 7: 20%\n",
            "  bucket 7: 30%\n",
            "  bucket 7: 40%\n",
            "  bucket 7: 50%\n",
            "  bucket 7: 60%\n",
            "  bucket 7: 70%\n",
            "  bucket 7: 80%\n",
            "  bucket 7: 90%\n",
            "  bucket 7: 100%\n",
            "  Sorting block of length 7551167 for bucket 7\n",
            "  (Using difference cover)\n",
            "  Sorting block time: 00:00:03\n",
            "Returning block of 7551168 for bucket 7\n",
            "Exited GFM loop\n",
            "fchr[A]: 0\n",
            "fchr[C]: 16736386\n",
            "fchr[G]: 29189141\n",
            "fchr[T]: 41613507\n",
            "fchr[$]: 58220004\n",
            "Exiting GFM::buildToDisk()\n",
            "Returning from initFromVector\n",
            "Wrote 23601273 bytes to primary GFM file: Mus_musculus.GRCm39.dna.chromosome.19.1.ht2\n",
            "Wrote 14555008 bytes to secondary GFM file: Mus_musculus.GRCm39.dna.chromosome.19.2.ht2\n",
            "Re-opening _in1 and _in2 as input streams\n",
            "Returning from GFM constructor\n",
            "Returning from initFromVector\n",
            "Wrote 25557013 bytes to primary GFM file: Mus_musculus.GRCm39.dna.chromosome.19.5.ht2\n",
            "Wrote 14821520 bytes to secondary GFM file: Mus_musculus.GRCm39.dna.chromosome.19.6.ht2\n",
            "Re-opening _in5 and _in5 as input streams\n",
            "Returning from HGFM constructor\n",
            "Headers:\n",
            "    len: 58220004\n",
            "    gbwtLen: 58220005\n",
            "    nodes: 58220005\n",
            "    sz: 14555001\n",
            "    gbwtSz: 14555002\n",
            "    lineRate: 6\n",
            "    offRate: 4\n",
            "    offMask: 0xfffffff0\n",
            "    ftabChars: 10\n",
            "    eftabLen: 0\n",
            "    eftabSz: 0\n",
            "    ftabLen: 1048577\n",
            "    ftabSz: 4194308\n",
            "    offsLen: 3638751\n",
            "    offsSz: 14555004\n",
            "    lineSz: 64\n",
            "    sideSz: 64\n",
            "    sideGbwtSz: 48\n",
            "    sideGbwtLen: 192\n",
            "    numSides: 303230\n",
            "    numLines: 303230\n",
            "    gbwtTotLen: 19406720\n",
            "    gbwtTotSz: 19406720\n",
            "    reverse: 0\n",
            "    linearFM: Yes\n",
            "Total time for call to driver() for forward index: 00:00:56\n"
          ]
        }
      ]
    },
    {
      "cell_type": "code",
      "source": [
        "%cd bams"
      ],
      "metadata": {
        "colab": {
          "base_uri": "https://localhost:8080/"
        },
        "id": "qC0DOox9nCTE",
        "outputId": "685a9148-f691-47a8-c402-fa2b7c86ee46"
      },
      "execution_count": null,
      "outputs": [
        {
          "output_type": "stream",
          "name": "stdout",
          "text": [
            "/content/bams\n"
          ]
        }
      ]
    },
    {
      "cell_type": "code",
      "source": [
        "index = '/content/index/Mus_musculus.GRCm39.dna.chromosome.19'\n",
        "path = '/content/drive/MyDrive/NGS/01.rna'"
      ],
      "metadata": {
        "id": "HIJOR9lsnCWP"
      },
      "execution_count": null,
      "outputs": []
    },
    {
      "cell_type": "code",
      "source": [
        "# Картируем с softcliping, так как по итогам первого практикума выяснилось, что есть 3 образца с долей картируемых ридов менее 90 из-за не очень высокого качества в начале\n",
        "my_samples = ['B14.5', 'B15.5', 'B17.5', 'B20', 'B34',\n",
        "              'C14.5', 'C15.5', 'C17.5', 'C20', 'C34']\n",
        "for sample in my_samples:\n",
        "  !hisat2 --summary-file $sample\\.log --no-unal -x $index -U $path/$sample\\.fq | samtools view -Sb - > $sample\\.bam\n",
        "# Все хорошо откартировалось"
      ],
      "metadata": {
        "colab": {
          "base_uri": "https://localhost:8080/"
        },
        "id": "bUSIRsfwn4vr",
        "outputId": "184a916f-a750-4102-dd57-a6cbdd47d3de"
      },
      "execution_count": null,
      "outputs": [
        {
          "output_type": "stream",
          "name": "stdout",
          "text": [
            "599672 reads; of these:\n",
            "  599672 (100.00%) were unpaired; of these:\n",
            "    22954 (3.83%) aligned 0 times\n",
            "    564666 (94.16%) aligned exactly 1 time\n",
            "    12052 (2.01%) aligned >1 times\n",
            "96.17% overall alignment rate\n",
            "599345 reads; of these:\n",
            "  599345 (100.00%) were unpaired; of these:\n",
            "    41854 (6.98%) aligned 0 times\n",
            "    545921 (91.09%) aligned exactly 1 time\n",
            "    11570 (1.93%) aligned >1 times\n",
            "93.02% overall alignment rate\n",
            "600006 reads; of these:\n",
            "  600006 (100.00%) were unpaired; of these:\n",
            "    40749 (6.79%) aligned 0 times\n",
            "    549434 (91.57%) aligned exactly 1 time\n",
            "    9823 (1.64%) aligned >1 times\n",
            "93.21% overall alignment rate\n",
            "599777 reads; of these:\n",
            "  599777 (100.00%) were unpaired; of these:\n",
            "    28007 (4.67%) aligned 0 times\n",
            "    561622 (93.64%) aligned exactly 1 time\n",
            "    10148 (1.69%) aligned >1 times\n",
            "95.33% overall alignment rate\n",
            "599683 reads; of these:\n",
            "  599683 (100.00%) were unpaired; of these:\n",
            "    30240 (5.04%) aligned 0 times\n",
            "    561254 (93.59%) aligned exactly 1 time\n",
            "    8189 (1.37%) aligned >1 times\n",
            "94.96% overall alignment rate\n",
            "599461 reads; of these:\n",
            "  599461 (100.00%) were unpaired; of these:\n",
            "    31707 (5.29%) aligned 0 times\n",
            "    556663 (92.86%) aligned exactly 1 time\n",
            "    11091 (1.85%) aligned >1 times\n",
            "94.71% overall alignment rate\n",
            "600324 reads; of these:\n",
            "  600324 (100.00%) were unpaired; of these:\n",
            "    44524 (7.42%) aligned 0 times\n",
            "    545470 (90.86%) aligned exactly 1 time\n",
            "    10330 (1.72%) aligned >1 times\n",
            "92.58% overall alignment rate\n",
            "600268 reads; of these:\n",
            "  600268 (100.00%) were unpaired; of these:\n",
            "    30198 (5.03%) aligned 0 times\n",
            "    559677 (93.24%) aligned exactly 1 time\n",
            "    10393 (1.73%) aligned >1 times\n",
            "94.97% overall alignment rate\n",
            "600133 reads; of these:\n",
            "  600133 (100.00%) were unpaired; of these:\n",
            "    24127 (4.02%) aligned 0 times\n",
            "    566517 (94.40%) aligned exactly 1 time\n",
            "    9489 (1.58%) aligned >1 times\n",
            "95.98% overall alignment rate\n",
            "599414 reads; of these:\n",
            "  599414 (100.00%) were unpaired; of these:\n",
            "    34101 (5.69%) aligned 0 times\n",
            "    556212 (92.79%) aligned exactly 1 time\n",
            "    9101 (1.52%) aligned >1 times\n",
            "94.31% overall alignment rate\n"
          ]
        }
      ]
    },
    {
      "cell_type": "markdown",
      "source": [
        "## Сборка транскриптов при помощи stringtie для каждого образца, используя аннотацию из ensembl (-G)"
      ],
      "metadata": {
        "id": "QZ9I_ECIyqCz"
      }
    },
    {
      "cell_type": "code",
      "source": [
        "ann = '/content/index/Mus_musculus.GRCm39.107.chr19.gtf'\n",
        "path_b = '/content/bams'\n",
        "path_tr = '/content/transcripts'"
      ],
      "metadata": {
        "id": "0555eizTpJh6"
      },
      "execution_count": null,
      "outputs": []
    },
    {
      "cell_type": "code",
      "source": [
        "# Сортируем bam файлы по геномным координатам\n",
        "for sample in my_samples:\n",
        "  !samtools sort -m 500M -o $path_b/$sample\\.s.bam $path_b/$sample\\.bam"
      ],
      "metadata": {
        "id": "qEnILivvBMIk"
      },
      "execution_count": null,
      "outputs": []
    },
    {
      "cell_type": "code",
      "source": [
        "# Создаем аннотацию для каждого образца\n",
        "for sample in my_samples:\n",
        "  !stringtie $path_b/$sample\\.s.bam -o $path_tr/$sample\\.gtf -G $ann"
      ],
      "metadata": {
        "id": "LXNbaBMXCYr5"
      },
      "execution_count": null,
      "outputs": []
    },
    {
      "cell_type": "code",
      "source": [
        "# Соединяем вместе\n",
        "!ls -1 $path_tr/*gtf > $path_tr/gtf.list #list of gtf files\n",
        "!stringtie --merge $path_tr/gtf.list -G  $ann -o $path_tr/merged.gtf"
      ],
      "metadata": {
        "id": "0DfE5XL4Cxmb"
      },
      "execution_count": null,
      "outputs": []
    },
    {
      "cell_type": "markdown",
      "source": [
        "## Картирование с использованием новой аннотации"
      ],
      "metadata": {
        "id": "8oKY-FGPyvF7"
      }
    },
    {
      "cell_type": "code",
      "source": [
        "# Достаем координаты сайтов сплайсинга и экзонов\n",
        "!hisat2_extract_splice_sites.py $path_tr/merged.gtf > $path_tr/ss\n",
        "!hisat2_extract_exons.py $path_tr/merged.gtf > $path_tr/exons"
      ],
      "metadata": {
        "id": "fhvJ8lzViIF9"
      },
      "execution_count": null,
      "outputs": []
    },
    {
      "cell_type": "code",
      "source": [
        "# Переделываем индексацию\n",
        "!hisat2-build --ss $path_tr/ss --exon $path_tr/exons Mus_musculus.GRCm39.dna.chromosome.19.fa $path_tr/index"
      ],
      "metadata": {
        "colab": {
          "base_uri": "https://localhost:8080/"
        },
        "id": "SU7Nv_zYjBVG",
        "outputId": "9709fdff-9857-4deb-ef59-42b65fc111a0"
      },
      "execution_count": null,
      "outputs": [
        {
          "output_type": "stream",
          "name": "stdout",
          "text": [
            "Settings:\n",
            "  Output files: \"/content/transcripts/index.*.ht2\"\n",
            "  Line rate: 7 (line is 128 bytes)\n",
            "  Lines per side: 1 (side is 128 bytes)\n",
            "  Offset rate: 4 (one in 16)\n",
            "  FTable chars: 10\n",
            "  Strings: unpacked\n",
            "  Local offset rate: 3 (one in 8)\n",
            "  Local fTable chars: 6\n",
            "  Local sequence length: 57344\n",
            "  Local sequence overlap between two consecutive indexes: 1024\n",
            "  Endianness: little\n",
            "  Actual local endianness: little\n",
            "  Sanity checking: disabled\n",
            "  Assertions: disabled\n",
            "  Random seed: 0\n",
            "  Sizeofs: void*:8, int:4, long:8, size_t:8\n",
            "Input files DNA, FASTA:\n",
            "  Mus_musculus.GRCm39.dna.chromosome.19.fa\n",
            "Reading reference sizes\n",
            "  Time reading reference sizes: 00:00:01\n",
            "Calculating joined length\n",
            "Writing header\n",
            "Reserving space for joined string\n",
            "Joining reference sequences\n",
            "  Time to join reference sequences: 00:00:01\n",
            "  Time to read SNPs and splice sites: 00:00:00\n",
            "Generation 0 (58229944 -> 58229944 nodes, 0 ranks)\n",
            "COUNTED NEW NODES: 0\n",
            "COUNTED TEMP NODES: 0\n",
            "RESIZED NODES: 1\n",
            "RESIZED NODES: 0\n",
            "MADE NEW NODES: 0\n",
            "Generation 1 (58239508 -> 58239508 nodes, 0 ranks)\n",
            "COUNTED NEW NODES: 0\n",
            "COUNTED TEMP NODES: 0\n",
            "RESIZED NODES: 1\n",
            "RESIZED NODES: 0\n",
            "MADE NEW NODES: 0\n",
            "Generation 2 (58258641 -> 58258641 nodes, 0 ranks)\n",
            "COUNTED NEW NODES: 0\n",
            "COUNTED TEMP NODES: 0\n",
            "RESIZED NODES: 0\n",
            "RESIZED NODES: 0\n",
            "MADE NEW NODES: 1\n",
            "Generation 3 (58296918 -> 58296918 nodes, 0 ranks)\n",
            "BUILT FROM_INDEX: 0\n",
            "COUNTED NEW NODES: 0\n",
            "COUNTED TEMP NODES: 0\n",
            "RESIZED NODES: 0\n",
            "RESIZED NODES: 0\n",
            "MADE NEW NODES: 0\n",
            "RESIZE NODES: 0\n",
            "SORT NODES: 7\n",
            "MERGE, UPDATE RANK: 1\n",
            "Generation 4 (58373524 -> 58316591 nodes, 49113444 ranks)\n",
            "tcmalloc: large alloc 1077936128 bytes == 0x5559f71f6000 @  0x7f96f38ff887 0x555978a2057b 0x555978a588d3 0x555978a5ce51 0x555978a81e34 0x555978a8ab0c 0x555978a91b2b 0x555978a94022 0x7f96f2f3dc87 0x5559789dff69\n",
            "ALLOCATE FROM_TABLE: 0\n",
            "BUILD TABLE: 4\n",
            "BUILD INDEX: 0\n",
            "COUNTED NEW NODES: 1\n",
            "COUNTED TEMP NODES: 0\n",
            "RESIZED NODES: 0\n",
            "RESIZED NODES: 0\n",
            "MADE NEW NODES: 2\n",
            "MERGEUPDATERANK: 0\n",
            "TOTAL TIME: 7\n",
            "Generation 5 (58323334 -> 58317003 nodes, 54638224 ranks)\n",
            "ALLOCATE FROM_TABLE: 0\n",
            "BUILD TABLE: 4\n",
            "BUILD INDEX: 0\n",
            "COUNTED NEW NODES: 0\n",
            "COUNTED TEMP NODES: 0\n",
            "RESIZED NODES: 0\n",
            "RESIZED NODES: 0\n",
            "MADE NEW NODES: 1\n",
            "MERGEUPDATERANK: 0\n",
            "TOTAL TIME: 5\n",
            "Generation 6 (58320078 -> 58318788 nodes, 56683286 ranks)\n",
            "ALLOCATE FROM_TABLE: 0\n",
            "BUILD TABLE: 4\n",
            "BUILD INDEX: 0\n",
            "COUNTED NEW NODES: 0\n",
            "COUNTED TEMP NODES: 0\n",
            "RESIZED NODES: 0\n",
            "RESIZED NODES: 0\n",
            "MADE NEW NODES: 1\n",
            "MERGEUPDATERANK: 0\n",
            "TOTAL TIME: 5\n",
            "Generation 7 (58321237 -> 58319983 nodes, 57555117 ranks)\n",
            "ALLOCATE FROM_TABLE: 0\n",
            "BUILD TABLE: 4\n",
            "BUILD INDEX: 0\n",
            "COUNTED NEW NODES: 0\n",
            "COUNTED TEMP NODES: 0\n",
            "RESIZED NODES: 0\n",
            "RESIZED NODES: 0\n",
            "MADE NEW NODES: 0\n",
            "MERGEUPDATERANK: 1\n",
            "TOTAL TIME: 5\n",
            "Generation 8 (58321240 -> 58320218 nodes, 57950692 ranks)\n",
            "ALLOCATE FROM_TABLE: 0\n",
            "BUILD TABLE: 3\n",
            "BUILD INDEX: 0\n",
            "COUNTED NEW NODES: 1\n",
            "COUNTED TEMP NODES: 0\n",
            "RESIZED NODES: 0\n",
            "RESIZED NODES: 0\n",
            "MADE NEW NODES: 0\n",
            "MERGEUPDATERANK: 0\n",
            "TOTAL TIME: 4\n",
            "Generation 9 (58320769 -> 58320134 nodes, 58157794 ranks)\n",
            "ALLOCATE FROM_TABLE: 0\n",
            "BUILD TABLE: 4\n",
            "BUILD INDEX: 0\n",
            "COUNTED NEW NODES: 0\n",
            "COUNTED TEMP NODES: 0\n",
            "RESIZED NODES: 0\n",
            "RESIZED NODES: 0\n",
            "MADE NEW NODES: 1\n",
            "MERGEUPDATERANK: 0\n",
            "TOTAL TIME: 5\n",
            "Generation 10 (58320646 -> 58320646 nodes, 58265848 ranks)\n",
            "ALLOCATE FROM_TABLE: 0\n",
            "BUILD TABLE: 5\n",
            "BUILD INDEX: 0\n",
            "COUNTED NEW NODES: 0\n",
            "COUNTED TEMP NODES: 0\n",
            "RESIZED NODES: 0\n",
            "RESIZED NODES: 0\n",
            "MADE NEW NODES: 0\n",
            "MERGEUPDATERANK: 1\n",
            "TOTAL TIME: 6\n",
            "Generation 11 (58321670 -> 58321670 nodes, 58314372 ranks)\n",
            "ALLOCATE FROM_TABLE: 0\n",
            "BUILD TABLE: 3\n",
            "BUILD INDEX: 1\n",
            "COUNTED NEW NODES: 0\n",
            "COUNTED TEMP NODES: 0\n",
            "RESIZED NODES: 0\n",
            "RESIZED NODES: 0\n",
            "MADE NEW NODES: 0\n",
            "MERGEUPDATERANK: 0\n",
            "TOTAL TIME: 4\n",
            "Generation 12 (58321792 -> 58321792 nodes, 58321519 ranks)\n",
            "ALLOCATE FROM_TABLE: 0\n",
            "BUILD TABLE: 4\n",
            "BUILD INDEX: 0\n",
            "COUNTED NEW NODES: 0\n",
            "COUNTED TEMP NODES: 0\n",
            "RESIZED NODES: 0\n",
            "RESIZED NODES: 0\n",
            "MADE NEW NODES: 0\n",
            "MERGEUPDATERANK: 0\n",
            "TOTAL TIME: 4\n",
            "Generation 13 (58321792 -> 58321792 nodes, 58321792 ranks)\n",
            "Generating edges... \n",
            "NODE.TO -> GENOME POS: 0\n",
            "BUILD FROM_INDEX 0\n",
            "COUNTED NEW EDGES: 1\n",
            "MADE NEW EDGES: 1\n",
            "SORTED NEW EDGES: 3\n",
            "RE-SORTED NODES: 5\n",
            "PROCESS EDGES: 0\n",
            "REMOVE Y: 0\n",
            "SORT, Make index: 3\n",
            "TOTAL: 13\n",
            "Allocating ftab, absorbFtab\n",
            "Entering GFM loop\n",
            "Exited GFM loop\n",
            "fchr[A]: 0\n",
            "fchr[C]: 16765305\n",
            "fchr[G]: 29244970\n",
            "fchr[T]: 41696443\n",
            "fchr[$]: 58331367\n",
            "Exiting GFM::buildToDisk()\n",
            "Returning from initFromVector\n",
            "Wrote 40091049 bytes to primary GFM file: /content/transcripts/index.1.ht2\n",
            "Wrote 14580452 bytes to secondary GFM file: /content/transcripts/index.2.ht2\n",
            "Re-opening _in1 and _in2 as input streams\n",
            "Returning from GFM constructor\n",
            "Returning from initFromVector\n",
            "Wrote 36029777 bytes to primary GFM file: /content/transcripts/index.5.ht2\n",
            "Wrote 14832300 bytes to secondary GFM file: /content/transcripts/index.6.ht2\n",
            "Re-opening _in5 and _in5 as input streams\n",
            "Returning from HGFM constructor\n",
            "Headers:\n",
            "    len: 58220004\n",
            "    gbwtLen: 58331368\n",
            "    nodes: 58321791\n",
            "    sz: 29110002\n",
            "    gbwtSz: 29165685\n",
            "    lineRate: 7\n",
            "    offRate: 4\n",
            "    offMask: 0xfffffff0\n",
            "    ftabChars: 10\n",
            "    eftabLen: 0\n",
            "    eftabSz: 0\n",
            "    ftabLen: 1048577\n",
            "    ftabSz: 4194308\n",
            "    offsLen: 3645112\n",
            "    offsSz: 14580448\n",
            "    lineSz: 128\n",
            "    sideSz: 128\n",
            "    sideGbwtSz: 104\n",
            "    sideGbwtLen: 208\n",
            "    numSides: 280440\n",
            "    numLines: 280440\n",
            "    gbwtTotLen: 35896320\n",
            "    gbwtTotSz: 35896320\n",
            "    reverse: 0\n",
            "    linearFM: No\n",
            "Total time for call to driver() for forward index: 00:04:07\n"
          ]
        }
      ]
    },
    {
      "cell_type": "code",
      "source": [
        "for sample in my_samples:\n",
        "  !hisat2 --summary-file $path_b/$sample\\.log --no-softclip --no-unal -x $path_tr/index -U $path/$sample\\.fq | samtools view -Sb - > $path_tr/$sample\\.tr.bam\n",
        "# есть два образца, доля картирующихся ридов по которым, 87%, сделаем с softcliping"
      ],
      "metadata": {
        "id": "XlOiNjbPyyiK",
        "colab": {
          "base_uri": "https://localhost:8080/"
        },
        "outputId": "90632f39-5a86-428e-f709-c9232bf74da3"
      },
      "execution_count": null,
      "outputs": [
        {
          "output_type": "stream",
          "name": "stdout",
          "text": [
            "599672 reads; of these:\n",
            "  599672 (100.00%) were unpaired; of these:\n",
            "    46782 (7.80%) aligned 0 times\n",
            "    540796 (90.18%) aligned exactly 1 time\n",
            "    12094 (2.02%) aligned >1 times\n",
            "92.20% overall alignment rate\n",
            "599345 reads; of these:\n",
            "  599345 (100.00%) were unpaired; of these:\n",
            "    70486 (11.76%) aligned 0 times\n",
            "    517424 (86.33%) aligned exactly 1 time\n",
            "    11435 (1.91%) aligned >1 times\n",
            "88.24% overall alignment rate\n",
            "600006 reads; of these:\n",
            "  600006 (100.00%) were unpaired; of these:\n",
            "    74862 (12.48%) aligned 0 times\n",
            "    515592 (85.93%) aligned exactly 1 time\n",
            "    9552 (1.59%) aligned >1 times\n",
            "87.52% overall alignment rate\n",
            "599777 reads; of these:\n",
            "  599777 (100.00%) were unpaired; of these:\n",
            "    50875 (8.48%) aligned 0 times\n",
            "    538652 (89.81%) aligned exactly 1 time\n",
            "    10250 (1.71%) aligned >1 times\n",
            "91.52% overall alignment rate\n",
            "599683 reads; of these:\n",
            "  599683 (100.00%) were unpaired; of these:\n",
            "    51646 (8.61%) aligned 0 times\n",
            "    539758 (90.01%) aligned exactly 1 time\n",
            "    8279 (1.38%) aligned >1 times\n",
            "91.39% overall alignment rate\n",
            "599461 reads; of these:\n",
            "  599461 (100.00%) were unpaired; of these:\n",
            "    49440 (8.25%) aligned 0 times\n",
            "    538776 (89.88%) aligned exactly 1 time\n",
            "    11245 (1.88%) aligned >1 times\n",
            "91.75% overall alignment rate\n",
            "600324 reads; of these:\n",
            "  600324 (100.00%) were unpaired; of these:\n",
            "    75693 (12.61%) aligned 0 times\n",
            "    514284 (85.67%) aligned exactly 1 time\n",
            "    10347 (1.72%) aligned >1 times\n",
            "87.39% overall alignment rate\n",
            "600268 reads; of these:\n",
            "  600268 (100.00%) were unpaired; of these:\n",
            "    58961 (9.82%) aligned 0 times\n",
            "    530985 (88.46%) aligned exactly 1 time\n",
            "    10322 (1.72%) aligned >1 times\n",
            "90.18% overall alignment rate\n",
            "600133 reads; of these:\n",
            "  600133 (100.00%) were unpaired; of these:\n",
            "    44615 (7.43%) aligned 0 times\n",
            "    545869 (90.96%) aligned exactly 1 time\n",
            "    9649 (1.61%) aligned >1 times\n",
            "92.57% overall alignment rate\n",
            "599414 reads; of these:\n",
            "  599414 (100.00%) were unpaired; of these:\n",
            "    42813 (7.14%) aligned 0 times\n",
            "    547383 (91.32%) aligned exactly 1 time\n",
            "    9218 (1.54%) aligned >1 times\n",
            "92.86% overall alignment rate\n"
          ]
        }
      ]
    },
    {
      "cell_type": "code",
      "source": [
        "# Картируем c softcliping\n",
        "for sample in my_samples:\n",
        "  !hisat2 --summary-file $path_b/$sample\\.log --no-unal -x $path_tr/index -U $path/$sample\\.fq | samtools view -Sb - > $path_tr/$sample\\.tr.bam\n",
        "# все в порядке (93-96%)"
      ],
      "metadata": {
        "colab": {
          "base_uri": "https://localhost:8080/"
        },
        "id": "vX8o_pWHotJv",
        "outputId": "084a27f5-c838-4423-b3bb-b67de7d74435"
      },
      "execution_count": null,
      "outputs": [
        {
          "output_type": "stream",
          "name": "stdout",
          "text": [
            "599672 reads; of these:\n",
            "  599672 (100.00%) were unpaired; of these:\n",
            "    22786 (3.80%) aligned 0 times\n",
            "    564343 (94.11%) aligned exactly 1 time\n",
            "    12543 (2.09%) aligned >1 times\n",
            "96.20% overall alignment rate\n",
            "599345 reads; of these:\n",
            "  599345 (100.00%) were unpaired; of these:\n",
            "    41492 (6.92%) aligned 0 times\n",
            "    545920 (91.09%) aligned exactly 1 time\n",
            "    11933 (1.99%) aligned >1 times\n",
            "93.08% overall alignment rate\n",
            "600006 reads; of these:\n",
            "  600006 (100.00%) were unpaired; of these:\n",
            "    40546 (6.76%) aligned 0 times\n",
            "    549262 (91.54%) aligned exactly 1 time\n",
            "    10198 (1.70%) aligned >1 times\n",
            "93.24% overall alignment rate\n",
            "599777 reads; of these:\n",
            "  599777 (100.00%) were unpaired; of these:\n",
            "    27810 (4.64%) aligned 0 times\n",
            "    561404 (93.60%) aligned exactly 1 time\n",
            "    10563 (1.76%) aligned >1 times\n",
            "95.36% overall alignment rate\n",
            "599683 reads; of these:\n",
            "  599683 (100.00%) were unpaired; of these:\n",
            "    30063 (5.01%) aligned 0 times\n",
            "    561058 (93.56%) aligned exactly 1 time\n",
            "    8562 (1.43%) aligned >1 times\n",
            "94.99% overall alignment rate\n",
            "599461 reads; of these:\n",
            "  599461 (100.00%) were unpaired; of these:\n",
            "    31384 (5.24%) aligned 0 times\n",
            "    556527 (92.84%) aligned exactly 1 time\n",
            "    11550 (1.93%) aligned >1 times\n",
            "94.76% overall alignment rate\n",
            "600324 reads; of these:\n",
            "  600324 (100.00%) were unpaired; of these:\n",
            "    44157 (7.36%) aligned 0 times\n",
            "    545262 (90.83%) aligned exactly 1 time\n",
            "    10905 (1.82%) aligned >1 times\n",
            "92.64% overall alignment rate\n",
            "600268 reads; of these:\n",
            "  600268 (100.00%) were unpaired; of these:\n",
            "    30018 (5.00%) aligned 0 times\n",
            "    559429 (93.20%) aligned exactly 1 time\n",
            "    10821 (1.80%) aligned >1 times\n",
            "95.00% overall alignment rate\n",
            "600133 reads; of these:\n",
            "  600133 (100.00%) were unpaired; of these:\n",
            "    23977 (4.00%) aligned 0 times\n",
            "    566245 (94.35%) aligned exactly 1 time\n",
            "    9911 (1.65%) aligned >1 times\n",
            "96.00% overall alignment rate\n",
            "599414 reads; of these:\n",
            "  599414 (100.00%) were unpaired; of these:\n",
            "    33608 (5.61%) aligned 0 times\n",
            "    556485 (92.84%) aligned exactly 1 time\n",
            "    9321 (1.56%) aligned >1 times\n",
            "94.39% overall alignment rate\n"
          ]
        }
      ]
    },
    {
      "cell_type": "code",
      "source": [
        "# Сортируем и индексируем bam\n",
        "for sample in my_samples:\n",
        "  !samtools sort -o $path_tr/$sample\\.tr.s.bam $path_tr/$sample\\.tr.bam\n",
        "  !samtools index $path_tr/$sample\\.tr.s.bam\n"
      ],
      "metadata": {
        "id": "ztMHhtgklOGI"
      },
      "execution_count": null,
      "outputs": []
    },
    {
      "cell_type": "markdown",
      "source": [
        "## Оценка экспрессии генов в каждом образце при помощи Rsubread"
      ],
      "metadata": {
        "id": "VFOJCC0IyzS4"
      }
    },
    {
      "cell_type": "code",
      "source": [
        "# Rmagic\n",
        "from rpy2 import robjects as ro\n",
        "#from rpy2.robjects.packages import importr\n",
        "#from rpy2.robjects import pandas2ri\n",
        "from rpy2.robjects.conversion import localconverter\n",
        "%load_ext rpy2.ipython"
      ],
      "metadata": {
        "id": "jcZeyWKqy1qA"
      },
      "execution_count": null,
      "outputs": []
    },
    {
      "cell_type": "code",
      "source": [
        "# Устанавливаем Rsubread\n",
        "%%R\n",
        "if (!require(\"BiocManager\", quietly = TRUE))\n",
        "    install.packages(\"BiocManager\")\n",
        "\n",
        "BiocManager::install(\"Rsubread\")\n",
        "\n",
        "library(Rsubread)"
      ],
      "metadata": {
        "id": "1sDK3lge-LK5"
      },
      "execution_count": null,
      "outputs": []
    },
    {
      "cell_type": "code",
      "source": [
        "# Устанавливаем edgeR\n",
        "%%R\n",
        "BiocManager::install(\"edgeR\")\n",
        "\n",
        "library(edgeR)"
      ],
      "metadata": {
        "colab": {
          "base_uri": "https://localhost:8080/"
        },
        "id": "rUpXqoGDqOz5",
        "outputId": "0d14262c-ea50-4857-b7e8-44bd0a71ca5a"
      },
      "execution_count": null,
      "outputs": [
        {
          "output_type": "stream",
          "name": "stderr",
          "text": [
            "R[write to console]: 'getOption(\"repos\")' replaces Bioconductor standard repositories, see\n",
            "'?repositories' for details\n",
            "\n",
            "replacement repositories:\n",
            "    CRAN: https://cran.rstudio.com\n",
            "\n",
            "\n",
            "R[write to console]: Bioconductor version 3.16 (BiocManager 1.30.19), R 4.2.2 Patched (2022-11-10\n",
            "  r83330)\n",
            "\n",
            "R[write to console]: Installing package(s) 'edgeR'\n",
            "\n",
            "R[write to console]: also installing the dependencies ‘limma’, ‘locfit’\n",
            "\n",
            "\n",
            "R[write to console]: trying URL 'https://bioconductor.org/packages/3.16/bioc/src/contrib/limma_3.54.0.tar.gz'\n",
            "\n",
            "R[write to console]: Content type 'application/x-gzip'\n",
            "R[write to console]:  length 1516770 bytes (1.4 MB)\n",
            "\n",
            "R[write to console]: =\n",
            "R[write to console]: =\n",
            "R[write to console]: =\n",
            "R[write to console]: =\n",
            "R[write to console]: =\n",
            "R[write to console]: =\n",
            "R[write to console]: =\n",
            "R[write to console]: =\n",
            "R[write to console]: =\n",
            "R[write to console]: =\n",
            "R[write to console]: =\n",
            "R[write to console]: =\n",
            "R[write to console]: =\n",
            "R[write to console]: =\n",
            "R[write to console]: =\n",
            "R[write to console]: =\n",
            "R[write to console]: =\n",
            "R[write to console]: =\n",
            "R[write to console]: =\n",
            "R[write to console]: =\n",
            "R[write to console]: =\n",
            "R[write to console]: =\n",
            "R[write to console]: =\n",
            "R[write to console]: =\n",
            "R[write to console]: =\n",
            "R[write to console]: =\n",
            "R[write to console]: =\n",
            "R[write to console]: =\n",
            "R[write to console]: =\n",
            "R[write to console]: =\n",
            "R[write to console]: =\n",
            "R[write to console]: =\n",
            "R[write to console]: =\n",
            "R[write to console]: =\n",
            "R[write to console]: =\n",
            "R[write to console]: =\n",
            "R[write to console]: =\n",
            "R[write to console]: =\n",
            "R[write to console]: =\n",
            "R[write to console]: =\n",
            "R[write to console]: =\n",
            "R[write to console]: =\n",
            "R[write to console]: =\n",
            "R[write to console]: =\n",
            "R[write to console]: =\n",
            "R[write to console]: =\n",
            "R[write to console]: =\n",
            "R[write to console]: =\n",
            "R[write to console]: =\n",
            "R[write to console]: =\n",
            "R[write to console]: \n",
            "\n",
            "R[write to console]: downloaded 1.4 MB\n",
            "\n",
            "\n",
            "R[write to console]: trying URL 'https://cran.rstudio.com/src/contrib/locfit_1.5-9.6.tar.gz'\n",
            "\n",
            "R[write to console]: Content type 'application/x-gzip'\n",
            "R[write to console]:  length 200986 bytes (196 KB)\n",
            "\n",
            "R[write to console]: =\n",
            "R[write to console]: =\n",
            "R[write to console]: =\n",
            "R[write to console]: =\n",
            "R[write to console]: =\n",
            "R[write to console]: =\n",
            "R[write to console]: =\n",
            "R[write to console]: =\n",
            "R[write to console]: =\n",
            "R[write to console]: =\n",
            "R[write to console]: =\n",
            "R[write to console]: =\n",
            "R[write to console]: =\n",
            "R[write to console]: =\n",
            "R[write to console]: =\n",
            "R[write to console]: =\n",
            "R[write to console]: =\n",
            "R[write to console]: =\n",
            "R[write to console]: =\n",
            "R[write to console]: =\n",
            "R[write to console]: =\n",
            "R[write to console]: =\n",
            "R[write to console]: =\n",
            "R[write to console]: =\n",
            "R[write to console]: =\n",
            "R[write to console]: =\n",
            "R[write to console]: =\n",
            "R[write to console]: =\n",
            "R[write to console]: =\n",
            "R[write to console]: =\n",
            "R[write to console]: =\n",
            "R[write to console]: =\n",
            "R[write to console]: =\n",
            "R[write to console]: =\n",
            "R[write to console]: =\n",
            "R[write to console]: =\n",
            "R[write to console]: =\n",
            "R[write to console]: =\n",
            "R[write to console]: =\n",
            "R[write to console]: =\n",
            "R[write to console]: =\n",
            "R[write to console]: =\n",
            "R[write to console]: =\n",
            "R[write to console]: =\n",
            "R[write to console]: =\n",
            "R[write to console]: =\n",
            "R[write to console]: =\n",
            "R[write to console]: =\n",
            "R[write to console]: =\n",
            "R[write to console]: =\n",
            "R[write to console]: \n",
            "\n",
            "R[write to console]: downloaded 196 KB\n",
            "\n",
            "\n",
            "R[write to console]: trying URL 'https://bioconductor.org/packages/3.16/bioc/src/contrib/edgeR_3.40.1.tar.gz'\n",
            "\n",
            "R[write to console]: Content type 'application/x-gzip'\n",
            "R[write to console]:  length 1410409 bytes (1.3 MB)\n",
            "\n",
            "R[write to console]: =\n",
            "R[write to console]: =\n",
            "R[write to console]: =\n",
            "R[write to console]: =\n",
            "R[write to console]: =\n",
            "R[write to console]: =\n",
            "R[write to console]: =\n",
            "R[write to console]: =\n",
            "R[write to console]: =\n",
            "R[write to console]: =\n",
            "R[write to console]: =\n",
            "R[write to console]: =\n",
            "R[write to console]: =\n",
            "R[write to console]: =\n",
            "R[write to console]: =\n",
            "R[write to console]: =\n",
            "R[write to console]: =\n",
            "R[write to console]: =\n",
            "R[write to console]: =\n",
            "R[write to console]: =\n",
            "R[write to console]: =\n",
            "R[write to console]: =\n",
            "R[write to console]: =\n",
            "R[write to console]: =\n",
            "R[write to console]: =\n",
            "R[write to console]: =\n",
            "R[write to console]: =\n",
            "R[write to console]: =\n",
            "R[write to console]: =\n",
            "R[write to console]: =\n",
            "R[write to console]: =\n",
            "R[write to console]: =\n",
            "R[write to console]: =\n",
            "R[write to console]: =\n",
            "R[write to console]: =\n",
            "R[write to console]: =\n",
            "R[write to console]: =\n",
            "R[write to console]: =\n",
            "R[write to console]: =\n",
            "R[write to console]: =\n",
            "R[write to console]: =\n",
            "R[write to console]: =\n",
            "R[write to console]: =\n",
            "R[write to console]: =\n",
            "R[write to console]: =\n",
            "R[write to console]: =\n",
            "R[write to console]: =\n",
            "R[write to console]: =\n",
            "R[write to console]: =\n",
            "R[write to console]: =\n",
            "R[write to console]: \n",
            "\n",
            "R[write to console]: downloaded 1.3 MB\n",
            "\n",
            "\n",
            "R[write to console]: \n",
            "\n",
            "R[write to console]: \n",
            "R[write to console]: The downloaded source packages are in\n",
            "\t‘/tmp/RtmpSActK1/downloaded_packages’\n",
            "R[write to console]: \n",
            "R[write to console]: \n",
            "\n",
            "R[write to console]: Loading required package: limma\n",
            "\n"
          ]
        }
      ]
    },
    {
      "cell_type": "code",
      "source": [
        "%cd ../transcripts"
      ],
      "metadata": {
        "colab": {
          "base_uri": "https://localhost:8080/"
        },
        "id": "nNoHWZc-qPD3",
        "outputId": "693a20b1-9b37-448d-aba8-ff47e62361e8"
      },
      "execution_count": null,
      "outputs": [
        {
          "output_type": "stream",
          "name": "stdout",
          "text": [
            "/content/transcripts\n"
          ]
        }
      ]
    },
    {
      "cell_type": "code",
      "source": [
        "# Rsubread\n",
        "%%R\n",
        "bam_files = list.files('/content/transcripts',\n",
        "                       pattern=\"*.tr.s.bam$\",\n",
        "                       full.names=TRUE)\n",
        "counts = featureCounts(files=bam_files,\n",
        "                       annot.ext=\"merged.gtf\",\n",
        "                       isGTFAnnotationFile=TRUE)"
      ],
      "metadata": {
        "colab": {
          "base_uri": "https://localhost:8080/"
        },
        "id": "oeg0SrWMqPAA",
        "outputId": "5653b308-7df9-4de7-dccc-54ac5ad397de"
      },
      "execution_count": null,
      "outputs": [
        {
          "output_type": "stream",
          "name": "stdout",
          "text": [
            "\n",
            "        ==========     _____ _    _ ____  _____  ______          _____  \n",
            "        =====         / ____| |  | |  _ \\|  __ \\|  ____|   /\\   |  __ \\ \n",
            "          =====      | (___ | |  | | |_) | |__) | |__     /  \\  | |  | |\n",
            "            ====      \\___ \\| |  | |  _ <|  _  /|  __|   / /\\ \\ | |  | |\n",
            "              ====    ____) | |__| | |_) | | \\ \\| |____ / ____ \\| |__| |\n",
            "        ==========   |_____/ \\____/|____/|_|  \\_\\______/_/    \\_\\_____/\n",
            "       Rsubread 2.12.2\n",
            "\n",
            "//========================== featureCounts setting ===========================\\\\\n",
            "||                                                                            ||\n",
            "||             Input files : 10 BAM files                                     ||\n",
            "||                                                                            ||\n",
            "||                           B14.5.tr.s.bam                                   ||\n",
            "||                           B15.5.tr.s.bam                                   ||\n",
            "||                           B17.5.tr.s.bam                                   ||\n",
            "||                           B20.tr.s.bam                                     ||\n",
            "||                           B34.tr.s.bam                                     ||\n",
            "||                           C14.5.tr.s.bam                                   ||\n",
            "||                           C15.5.tr.s.bam                                   ||\n",
            "||                           C17.5.tr.s.bam                                   ||\n",
            "||                           C20.tr.s.bam                                     ||\n",
            "||                           C34.tr.s.bam                                     ||\n",
            "||                                                                            ||\n",
            "||              Paired-end : no                                               ||\n",
            "||        Count read pairs : no                                               ||\n",
            "||              Annotation : merged.gtf (GTF)                                 ||\n",
            "||      Dir for temp files : .                                                ||\n",
            "||                 Threads : 1                                                ||\n",
            "||                   Level : meta-feature level                               ||\n",
            "||      Multimapping reads : counted                                          ||\n",
            "|| Multi-overlapping reads : not counted                                      ||\n",
            "||   Min overlapping bases : 1                                                ||\n",
            "||                                                                            ||\n",
            "\\\\============================================================================//\n",
            "\n",
            "//================================= Running ==================================\\\\\n",
            "||                                                                            ||\n",
            "|| Load annotation file merged.gtf ...                                        ||\n",
            "||    Features : 36923                                                        ||\n",
            "||    Meta-features : 1768                                                    ||\n",
            "||    Chromosomes/contigs : 1                                                 ||\n",
            "||                                                                            ||\n",
            "|| Process BAM file B14.5.tr.s.bam...                                         ||\n",
            "||    Single-end reads are included.                                          ||\n",
            "||    Total alignments : 592512                                               ||\n",
            "||    Successfully assigned alignments : 498876 (84.2%)                       ||\n",
            "||    Running time : 0.02 minutes                                             ||\n",
            "||                                                                            ||\n",
            "|| Process BAM file B15.5.tr.s.bam...                                         ||\n",
            "||    Single-end reads are included.                                          ||\n",
            "||    Total alignments : 573079                                               ||\n",
            "||    Successfully assigned alignments : 481919 (84.1%)                       ||\n",
            "||    Running time : 0.02 minutes                                             ||\n",
            "||                                                                            ||\n",
            "|| Process BAM file B17.5.tr.s.bam...                                         ||\n",
            "||    Single-end reads are included.                                          ||\n",
            "||    Total alignments : 573158                                               ||\n",
            "||    Successfully assigned alignments : 478864 (83.5%)                       ||\n",
            "||    Running time : 0.03 minutes                                             ||\n",
            "||                                                                            ||\n",
            "|| Process BAM file B20.tr.s.bam...                                           ||\n",
            "||    Single-end reads are included.                                          ||\n",
            "||    Total alignments : 585425                                               ||\n",
            "||    Successfully assigned alignments : 489454 (83.6%)                       ||\n",
            "||    Running time : 0.03 minutes                                             ||\n",
            "||                                                                            ||\n",
            "|| Process BAM file B34.tr.s.bam...                                           ||\n",
            "||    Single-end reads are included.                                          ||\n",
            "||    Total alignments : 580946                                               ||\n",
            "||    Successfully assigned alignments : 499526 (86.0%)                       ||\n",
            "||    Running time : 0.03 minutes                                             ||\n",
            "||                                                                            ||\n",
            "|| Process BAM file C14.5.tr.s.bam...                                         ||\n",
            "||    Single-end reads are included.                                          ||\n",
            "||    Total alignments : 582672                                               ||\n",
            "||    Successfully assigned alignments : 486126 (83.4%)                       ||\n",
            "||    Running time : 0.03 minutes                                             ||\n",
            "||                                                                            ||\n",
            "|| Process BAM file C15.5.tr.s.bam...                                         ||\n",
            "||    Single-end reads are included.                                          ||\n",
            "||    Total alignments : 570459                                               ||\n",
            "||    Successfully assigned alignments : 476568 (83.5%)                       ||\n",
            "||    Running time : 0.03 minutes                                             ||\n",
            "||                                                                            ||\n",
            "|| Process BAM file C17.5.tr.s.bam...                                         ||\n",
            "||    Single-end reads are included.                                          ||\n",
            "||    Total alignments : 583903                                               ||\n",
            "||    Successfully assigned alignments : 501832 (85.9%)                       ||\n",
            "||    Running time : 0.02 minutes                                             ||\n",
            "||                                                                            ||\n",
            "|| Process BAM file C20.tr.s.bam...                                           ||\n",
            "||    Single-end reads are included.                                          ||\n",
            "||    Total alignments : 588586                                               ||\n",
            "||    Successfully assigned alignments : 501033 (85.1%)                       ||\n",
            "||    Running time : 0.02 minutes                                             ||\n",
            "||                                                                            ||\n",
            "|| Process BAM file C34.tr.s.bam...                                           ||\n",
            "||    Single-end reads are included.                                          ||\n",
            "||    Total alignments : 577788                                               ||\n",
            "||    Successfully assigned alignments : 492294 (85.2%)                       ||\n",
            "||    Running time : 0.02 minutes                                             ||\n",
            "||                                                                            ||\n",
            "|| Write the final count table.                                               ||\n",
            "|| Write the read assignment summary.                                         ||\n",
            "||                                                                            ||\n",
            "\\\\============================================================================//\n",
            "\n"
          ]
        }
      ]
    },
    {
      "cell_type": "code",
      "source": [
        "%%R\n",
        "fcounts <- DGEList(counts=counts$counts, genes=counts$annotation)\n"
      ],
      "metadata": {
        "id": "XDVL1pio9ok0"
      },
      "execution_count": null,
      "outputs": []
    },
    {
      "cell_type": "code",
      "source": [
        "%Rpull counts\n",
        "%Rpull fcounts"
      ],
      "metadata": {
        "id": "Zz8aFdV2x2Qz"
      },
      "execution_count": null,
      "outputs": []
    },
    {
      "cell_type": "code",
      "source": [
        "with localconverter(pandas2ri.converter):\n",
        "    counts = ro.conversion.rpy2py(counts)\n",
        "    fcounts = ro.conversion.rpy2py(fcounts)"
      ],
      "metadata": {
        "id": "YB2K5MROx2OM"
      },
      "execution_count": null,
      "outputs": []
    },
    {
      "cell_type": "code",
      "source": [
        "counts['annotation']"
      ],
      "metadata": {
        "id": "F4MSey8YyGlp"
      },
      "execution_count": null,
      "outputs": []
    },
    {
      "cell_type": "code",
      "source": [
        "counts['counts']"
      ],
      "metadata": {
        "id": "Y1LUlwtS5l7a"
      },
      "execution_count": null,
      "outputs": []
    },
    {
      "cell_type": "code",
      "source": [
        "counts['targets']"
      ],
      "metadata": {
        "id": "L6DMyGjhAibB"
      },
      "execution_count": null,
      "outputs": []
    },
    {
      "cell_type": "code",
      "source": [
        "counts['stat']\n",
        "# Кажется, что качество данных нормальное. Какое-то количество Unassigned_NoFeatures, но в пределах нормы (~12%)"
      ],
      "metadata": {
        "colab": {
          "base_uri": "https://localhost:8080/",
          "height": 489
        },
        "id": "y7wJkeqpAl9w",
        "outputId": "07dc46dd-09ab-4c71-cb62-96aff5e428f7"
      },
      "execution_count": null,
      "outputs": [
        {
          "output_type": "execute_result",
          "data": {
            "text/plain": [
              "                           Status  B14.5.tr.s.bam  B15.5.tr.s.bam  \\\n",
              "1                        Assigned          498876          481919   \n",
              "2             Unassigned_Unmapped               0               0   \n",
              "3            Unassigned_Read_Type               0               0   \n",
              "4            Unassigned_Singleton               0               0   \n",
              "5       Unassigned_MappingQuality               0               0   \n",
              "6              Unassigned_Chimera               0               0   \n",
              "7       Unassigned_FragmentLength               0               0   \n",
              "8            Unassigned_Duplicate               0               0   \n",
              "9         Unassigned_MultiMapping               0               0   \n",
              "10           Unassigned_Secondary               0               0   \n",
              "11            Unassigned_NonSplit               0               0   \n",
              "12          Unassigned_NoFeatures           67341           64580   \n",
              "13  Unassigned_Overlapping_Length               0               0   \n",
              "14           Unassigned_Ambiguity           26295           26580   \n",
              "\n",
              "    B17.5.tr.s.bam  B20.tr.s.bam  B34.tr.s.bam  C14.5.tr.s.bam  \\\n",
              "1           478864        489454        499526          486126   \n",
              "2                0             0             0               0   \n",
              "3                0             0             0               0   \n",
              "4                0             0             0               0   \n",
              "5                0             0             0               0   \n",
              "6                0             0             0               0   \n",
              "7                0             0             0               0   \n",
              "8                0             0             0               0   \n",
              "9                0             0             0               0   \n",
              "10               0             0             0               0   \n",
              "11               0             0             0               0   \n",
              "12           66014         66601         53645           70296   \n",
              "13               0             0             0               0   \n",
              "14           28280         29370         27775           26250   \n",
              "\n",
              "    C15.5.tr.s.bam  C17.5.tr.s.bam  C20.tr.s.bam  C34.tr.s.bam  \n",
              "1           476568          501832        501033        492294  \n",
              "2                0               0             0             0  \n",
              "3                0               0             0             0  \n",
              "4                0               0             0             0  \n",
              "5                0               0             0             0  \n",
              "6                0               0             0             0  \n",
              "7                0               0             0             0  \n",
              "8                0               0             0             0  \n",
              "9                0               0             0             0  \n",
              "10               0               0             0             0  \n",
              "11               0               0             0             0  \n",
              "12           65745           47564         60068         64195  \n",
              "13               0               0             0             0  \n",
              "14           28146           34507         27485         21299  "
            ],
            "text/html": [
              "\n",
              "  <div id=\"df-a86e2c62-4d03-42ee-8222-2bc3388cb52c\">\n",
              "    <div class=\"colab-df-container\">\n",
              "      <div>\n",
              "<style scoped>\n",
              "    .dataframe tbody tr th:only-of-type {\n",
              "        vertical-align: middle;\n",
              "    }\n",
              "\n",
              "    .dataframe tbody tr th {\n",
              "        vertical-align: top;\n",
              "    }\n",
              "\n",
              "    .dataframe thead th {\n",
              "        text-align: right;\n",
              "    }\n",
              "</style>\n",
              "<table border=\"1\" class=\"dataframe\">\n",
              "  <thead>\n",
              "    <tr style=\"text-align: right;\">\n",
              "      <th></th>\n",
              "      <th>Status</th>\n",
              "      <th>B14.5.tr.s.bam</th>\n",
              "      <th>B15.5.tr.s.bam</th>\n",
              "      <th>B17.5.tr.s.bam</th>\n",
              "      <th>B20.tr.s.bam</th>\n",
              "      <th>B34.tr.s.bam</th>\n",
              "      <th>C14.5.tr.s.bam</th>\n",
              "      <th>C15.5.tr.s.bam</th>\n",
              "      <th>C17.5.tr.s.bam</th>\n",
              "      <th>C20.tr.s.bam</th>\n",
              "      <th>C34.tr.s.bam</th>\n",
              "    </tr>\n",
              "  </thead>\n",
              "  <tbody>\n",
              "    <tr>\n",
              "      <th>1</th>\n",
              "      <td>Assigned</td>\n",
              "      <td>498876</td>\n",
              "      <td>481919</td>\n",
              "      <td>478864</td>\n",
              "      <td>489454</td>\n",
              "      <td>499526</td>\n",
              "      <td>486126</td>\n",
              "      <td>476568</td>\n",
              "      <td>501832</td>\n",
              "      <td>501033</td>\n",
              "      <td>492294</td>\n",
              "    </tr>\n",
              "    <tr>\n",
              "      <th>2</th>\n",
              "      <td>Unassigned_Unmapped</td>\n",
              "      <td>0</td>\n",
              "      <td>0</td>\n",
              "      <td>0</td>\n",
              "      <td>0</td>\n",
              "      <td>0</td>\n",
              "      <td>0</td>\n",
              "      <td>0</td>\n",
              "      <td>0</td>\n",
              "      <td>0</td>\n",
              "      <td>0</td>\n",
              "    </tr>\n",
              "    <tr>\n",
              "      <th>3</th>\n",
              "      <td>Unassigned_Read_Type</td>\n",
              "      <td>0</td>\n",
              "      <td>0</td>\n",
              "      <td>0</td>\n",
              "      <td>0</td>\n",
              "      <td>0</td>\n",
              "      <td>0</td>\n",
              "      <td>0</td>\n",
              "      <td>0</td>\n",
              "      <td>0</td>\n",
              "      <td>0</td>\n",
              "    </tr>\n",
              "    <tr>\n",
              "      <th>4</th>\n",
              "      <td>Unassigned_Singleton</td>\n",
              "      <td>0</td>\n",
              "      <td>0</td>\n",
              "      <td>0</td>\n",
              "      <td>0</td>\n",
              "      <td>0</td>\n",
              "      <td>0</td>\n",
              "      <td>0</td>\n",
              "      <td>0</td>\n",
              "      <td>0</td>\n",
              "      <td>0</td>\n",
              "    </tr>\n",
              "    <tr>\n",
              "      <th>5</th>\n",
              "      <td>Unassigned_MappingQuality</td>\n",
              "      <td>0</td>\n",
              "      <td>0</td>\n",
              "      <td>0</td>\n",
              "      <td>0</td>\n",
              "      <td>0</td>\n",
              "      <td>0</td>\n",
              "      <td>0</td>\n",
              "      <td>0</td>\n",
              "      <td>0</td>\n",
              "      <td>0</td>\n",
              "    </tr>\n",
              "    <tr>\n",
              "      <th>6</th>\n",
              "      <td>Unassigned_Chimera</td>\n",
              "      <td>0</td>\n",
              "      <td>0</td>\n",
              "      <td>0</td>\n",
              "      <td>0</td>\n",
              "      <td>0</td>\n",
              "      <td>0</td>\n",
              "      <td>0</td>\n",
              "      <td>0</td>\n",
              "      <td>0</td>\n",
              "      <td>0</td>\n",
              "    </tr>\n",
              "    <tr>\n",
              "      <th>7</th>\n",
              "      <td>Unassigned_FragmentLength</td>\n",
              "      <td>0</td>\n",
              "      <td>0</td>\n",
              "      <td>0</td>\n",
              "      <td>0</td>\n",
              "      <td>0</td>\n",
              "      <td>0</td>\n",
              "      <td>0</td>\n",
              "      <td>0</td>\n",
              "      <td>0</td>\n",
              "      <td>0</td>\n",
              "    </tr>\n",
              "    <tr>\n",
              "      <th>8</th>\n",
              "      <td>Unassigned_Duplicate</td>\n",
              "      <td>0</td>\n",
              "      <td>0</td>\n",
              "      <td>0</td>\n",
              "      <td>0</td>\n",
              "      <td>0</td>\n",
              "      <td>0</td>\n",
              "      <td>0</td>\n",
              "      <td>0</td>\n",
              "      <td>0</td>\n",
              "      <td>0</td>\n",
              "    </tr>\n",
              "    <tr>\n",
              "      <th>9</th>\n",
              "      <td>Unassigned_MultiMapping</td>\n",
              "      <td>0</td>\n",
              "      <td>0</td>\n",
              "      <td>0</td>\n",
              "      <td>0</td>\n",
              "      <td>0</td>\n",
              "      <td>0</td>\n",
              "      <td>0</td>\n",
              "      <td>0</td>\n",
              "      <td>0</td>\n",
              "      <td>0</td>\n",
              "    </tr>\n",
              "    <tr>\n",
              "      <th>10</th>\n",
              "      <td>Unassigned_Secondary</td>\n",
              "      <td>0</td>\n",
              "      <td>0</td>\n",
              "      <td>0</td>\n",
              "      <td>0</td>\n",
              "      <td>0</td>\n",
              "      <td>0</td>\n",
              "      <td>0</td>\n",
              "      <td>0</td>\n",
              "      <td>0</td>\n",
              "      <td>0</td>\n",
              "    </tr>\n",
              "    <tr>\n",
              "      <th>11</th>\n",
              "      <td>Unassigned_NonSplit</td>\n",
              "      <td>0</td>\n",
              "      <td>0</td>\n",
              "      <td>0</td>\n",
              "      <td>0</td>\n",
              "      <td>0</td>\n",
              "      <td>0</td>\n",
              "      <td>0</td>\n",
              "      <td>0</td>\n",
              "      <td>0</td>\n",
              "      <td>0</td>\n",
              "    </tr>\n",
              "    <tr>\n",
              "      <th>12</th>\n",
              "      <td>Unassigned_NoFeatures</td>\n",
              "      <td>67341</td>\n",
              "      <td>64580</td>\n",
              "      <td>66014</td>\n",
              "      <td>66601</td>\n",
              "      <td>53645</td>\n",
              "      <td>70296</td>\n",
              "      <td>65745</td>\n",
              "      <td>47564</td>\n",
              "      <td>60068</td>\n",
              "      <td>64195</td>\n",
              "    </tr>\n",
              "    <tr>\n",
              "      <th>13</th>\n",
              "      <td>Unassigned_Overlapping_Length</td>\n",
              "      <td>0</td>\n",
              "      <td>0</td>\n",
              "      <td>0</td>\n",
              "      <td>0</td>\n",
              "      <td>0</td>\n",
              "      <td>0</td>\n",
              "      <td>0</td>\n",
              "      <td>0</td>\n",
              "      <td>0</td>\n",
              "      <td>0</td>\n",
              "    </tr>\n",
              "    <tr>\n",
              "      <th>14</th>\n",
              "      <td>Unassigned_Ambiguity</td>\n",
              "      <td>26295</td>\n",
              "      <td>26580</td>\n",
              "      <td>28280</td>\n",
              "      <td>29370</td>\n",
              "      <td>27775</td>\n",
              "      <td>26250</td>\n",
              "      <td>28146</td>\n",
              "      <td>34507</td>\n",
              "      <td>27485</td>\n",
              "      <td>21299</td>\n",
              "    </tr>\n",
              "  </tbody>\n",
              "</table>\n",
              "</div>\n",
              "      <button class=\"colab-df-convert\" onclick=\"convertToInteractive('df-a86e2c62-4d03-42ee-8222-2bc3388cb52c')\"\n",
              "              title=\"Convert this dataframe to an interactive table.\"\n",
              "              style=\"display:none;\">\n",
              "        \n",
              "  <svg xmlns=\"http://www.w3.org/2000/svg\" height=\"24px\"viewBox=\"0 0 24 24\"\n",
              "       width=\"24px\">\n",
              "    <path d=\"M0 0h24v24H0V0z\" fill=\"none\"/>\n",
              "    <path d=\"M18.56 5.44l.94 2.06.94-2.06 2.06-.94-2.06-.94-.94-2.06-.94 2.06-2.06.94zm-11 1L8.5 8.5l.94-2.06 2.06-.94-2.06-.94L8.5 2.5l-.94 2.06-2.06.94zm10 10l.94 2.06.94-2.06 2.06-.94-2.06-.94-.94-2.06-.94 2.06-2.06.94z\"/><path d=\"M17.41 7.96l-1.37-1.37c-.4-.4-.92-.59-1.43-.59-.52 0-1.04.2-1.43.59L10.3 9.45l-7.72 7.72c-.78.78-.78 2.05 0 2.83L4 21.41c.39.39.9.59 1.41.59.51 0 1.02-.2 1.41-.59l7.78-7.78 2.81-2.81c.8-.78.8-2.07 0-2.86zM5.41 20L4 18.59l7.72-7.72 1.47 1.35L5.41 20z\"/>\n",
              "  </svg>\n",
              "      </button>\n",
              "      \n",
              "  <style>\n",
              "    .colab-df-container {\n",
              "      display:flex;\n",
              "      flex-wrap:wrap;\n",
              "      gap: 12px;\n",
              "    }\n",
              "\n",
              "    .colab-df-convert {\n",
              "      background-color: #E8F0FE;\n",
              "      border: none;\n",
              "      border-radius: 50%;\n",
              "      cursor: pointer;\n",
              "      display: none;\n",
              "      fill: #1967D2;\n",
              "      height: 32px;\n",
              "      padding: 0 0 0 0;\n",
              "      width: 32px;\n",
              "    }\n",
              "\n",
              "    .colab-df-convert:hover {\n",
              "      background-color: #E2EBFA;\n",
              "      box-shadow: 0px 1px 2px rgba(60, 64, 67, 0.3), 0px 1px 3px 1px rgba(60, 64, 67, 0.15);\n",
              "      fill: #174EA6;\n",
              "    }\n",
              "\n",
              "    [theme=dark] .colab-df-convert {\n",
              "      background-color: #3B4455;\n",
              "      fill: #D2E3FC;\n",
              "    }\n",
              "\n",
              "    [theme=dark] .colab-df-convert:hover {\n",
              "      background-color: #434B5C;\n",
              "      box-shadow: 0px 1px 3px 1px rgba(0, 0, 0, 0.15);\n",
              "      filter: drop-shadow(0px 1px 2px rgba(0, 0, 0, 0.3));\n",
              "      fill: #FFFFFF;\n",
              "    }\n",
              "  </style>\n",
              "\n",
              "      <script>\n",
              "        const buttonEl =\n",
              "          document.querySelector('#df-a86e2c62-4d03-42ee-8222-2bc3388cb52c button.colab-df-convert');\n",
              "        buttonEl.style.display =\n",
              "          google.colab.kernel.accessAllowed ? 'block' : 'none';\n",
              "\n",
              "        async function convertToInteractive(key) {\n",
              "          const element = document.querySelector('#df-a86e2c62-4d03-42ee-8222-2bc3388cb52c');\n",
              "          const dataTable =\n",
              "            await google.colab.kernel.invokeFunction('convertToInteractive',\n",
              "                                                     [key], {});\n",
              "          if (!dataTable) return;\n",
              "\n",
              "          const docLinkHtml = 'Like what you see? Visit the ' +\n",
              "            '<a target=\"_blank\" href=https://colab.research.google.com/notebooks/data_table.ipynb>data table notebook</a>'\n",
              "            + ' to learn more about interactive tables.';\n",
              "          element.innerHTML = '';\n",
              "          dataTable['output_type'] = 'display_data';\n",
              "          await google.colab.output.renderOutput(dataTable, element);\n",
              "          const docLink = document.createElement('div');\n",
              "          docLink.innerHTML = docLinkHtml;\n",
              "          element.appendChild(docLink);\n",
              "        }\n",
              "      </script>\n",
              "    </div>\n",
              "  </div>\n",
              "  "
            ]
          },
          "metadata": {},
          "execution_count": 108
        }
      ]
    },
    {
      "cell_type": "code",
      "source": [
        "%cd ../\n",
        "%cd content/drive/MyDrive/NGS/01.rna"
      ],
      "metadata": {
        "colab": {
          "base_uri": "https://localhost:8080/"
        },
        "id": "HZChxaTIC0uD",
        "outputId": "207a8759-2176-44b7-a907-e17d74ea3f28"
      },
      "execution_count": null,
      "outputs": [
        {
          "output_type": "stream",
          "name": "stdout",
          "text": [
            "/content/drive/MyDrive/NGS/01.rna\n"
          ]
        }
      ]
    },
    {
      "cell_type": "code",
      "source": [
        "import pickle\n",
        "\n",
        "with open('annotation.pkl', 'wb') as f:\n",
        "   pickle.dump(counts['annotation'], f)\n",
        "with open('counts.pkl', 'wb') as f:\n",
        "   pickle.dump(counts['counts'], f)\n",
        "with open('targets.pkl', 'wb') as f:\n",
        "   pickle.dump(counts['targets'], f)\n",
        "with open('stat.pkl', 'wb') as f:\n",
        "   pickle.dump(counts['stat'], f)\n",
        ""
      ],
      "metadata": {
        "id": "qvsyg2nbD5Qd"
      },
      "execution_count": null,
      "outputs": []
    },
    {
      "cell_type": "markdown",
      "source": [
        "## Постройте PCA и heatmap (коэффициент корреляции Спирмана) для образцов"
      ],
      "metadata": {
        "id": "GB8qSpO7y2Z4"
      }
    },
    {
      "cell_type": "code",
      "source": [
        "import pickle\n",
        "\n",
        "with open('annotation.pkl', 'rb') as f:\n",
        "   annotation = pickle.load(f)\n",
        "with open('counts.pkl', 'rb') as f:\n",
        "   counts = pickle.load(f)\n",
        "with open('targets.pkl', 'rb') as f:\n",
        "   targets = pickle.load(f)\n",
        "with open('stat.pkl', 'rb') as f:\n",
        "   stat = pickle.load(f)"
      ],
      "metadata": {
        "id": "3xgEZHyAa_Xo"
      },
      "execution_count": null,
      "outputs": []
    },
    {
      "cell_type": "code",
      "source": [
        "my_samples = ['B14.5', 'B15.5', 'B17.5', 'B20', 'B34',\n",
        "              'C14.5', 'C15.5', 'C17.5', 'C20', 'C34']"
      ],
      "metadata": {
        "id": "X-Vaychdcn54"
      },
      "execution_count": null,
      "outputs": []
    },
    {
      "cell_type": "code",
      "source": [
        "counts = pd.DataFrame(counts)\n",
        "counts.to_csv('counts.csv', index=False)"
      ],
      "metadata": {
        "id": "PalZ8HglvqMC"
      },
      "execution_count": null,
      "outputs": []
    },
    {
      "cell_type": "code",
      "source": [
        "targets # порядок такой же"
      ],
      "metadata": {
        "colab": {
          "base_uri": "https://localhost:8080/"
        },
        "id": "_ZmUYZUA-1vL",
        "outputId": "dbb48238-a6c0-4870-fab4-dba8e4ed24e9"
      },
      "execution_count": null,
      "outputs": [
        {
          "output_type": "execute_result",
          "data": {
            "text/plain": [
              "array(['B14.5.tr.s.bam', 'B15.5.tr.s.bam', 'B17.5.tr.s.bam',\n",
              "       'B20.tr.s.bam', 'B34.tr.s.bam', 'C14.5.tr.s.bam', 'C15.5.tr.s.bam',\n",
              "       'C17.5.tr.s.bam', 'C20.tr.s.bam', 'C34.tr.s.bam'], dtype='<U14')"
            ]
          },
          "metadata": {},
          "execution_count": 7
        }
      ]
    },
    {
      "cell_type": "code",
      "source": [
        "# Heatmap\n",
        "counts = pd.DataFrame(counts, columns=my_samples)\n",
        "corr_matrix = counts.corr(method='spearman')\n",
        "plt.figure(figsize=(12,10))\n",
        "cmap = sns.cm.flare\n",
        "sns.heatmap(corr_matrix, cmap=cmap)"
      ],
      "metadata": {
        "colab": {
          "base_uri": "https://localhost:8080/",
          "height": 613
        },
        "id": "NKAgRSkx_ZhB",
        "outputId": "82e38f29-8d83-471b-c327-d742ce17db3e"
      },
      "execution_count": null,
      "outputs": [
        {
          "output_type": "execute_result",
          "data": {
            "text/plain": [
              "<matplotlib.axes._subplots.AxesSubplot at 0x7f38a1b5cb50>"
            ]
          },
          "metadata": {},
          "execution_count": 81
        },
        {
          "output_type": "display_data",
          "data": {
            "text/plain": [
              "<Figure size 864x720 with 2 Axes>"
            ],
            "image/png": "[encoded data removed]"
          },
          "metadata": {
            "needs_background": "light"
          }
        }
      ]
    },
    {
      "cell_type": "markdown",
      "source": [
        "* Явно разделяются образцы взрослых мышей и мышей в возрасте 20 и менее дней.\n",
        "* Образцы мышей одного возраста коррелируют лучше, чем разного.\n",
        "* Образцы одного отдела мозга также коррелируют между собой лучше, чем с другим отделом (В/В и С/С)."
      ],
      "metadata": {
        "id": "LnNQuddLLFdB"
      }
    },
    {
      "cell_type": "code",
      "source": [
        "# PCA\n",
        "corr_matrix_arr = np.array(corr_matrix)\n",
        "dist_matrix = 1 - corr_matrix_arr\n",
        "dist_matrix = pd.DataFrame(dist_matrix, columns=my_samples, index=my_samples)\n",
        "dist_matrix"
      ],
      "metadata": {
        "colab": {
          "base_uri": "https://localhost:8080/",
          "height": 363
        },
        "id": "4V6jsJOsCJ0R",
        "outputId": "2b2e2ad4-7250-4a7a-e8da-37201985fb16"
      },
      "execution_count": null,
      "outputs": [
        {
          "output_type": "execute_result",
          "data": {
            "text/plain": [
              "          B14.5     B15.5     B17.5       B20       B34     C14.5     C15.5  \\\n",
              "B14.5  0.000000  0.032670  0.045304  0.048445  0.077943  0.049549  0.057814   \n",
              "B15.5  0.032670  0.000000  0.038878  0.041561  0.073524  0.046672  0.050721   \n",
              "B17.5  0.045304  0.038878  0.000000  0.036532  0.065937  0.043409  0.047504   \n",
              "B20    0.048445  0.041561  0.036532  0.000000  0.052331  0.055856  0.050359   \n",
              "B34    0.077943  0.073524  0.065937  0.052331  0.000000  0.080654  0.074703   \n",
              "C14.5  0.049549  0.046672  0.043409  0.055856  0.080654  0.000000  0.043846   \n",
              "C15.5  0.057814  0.050721  0.047504  0.050359  0.074703  0.043846  0.000000   \n",
              "C17.5  0.069332  0.059805  0.056421  0.054858  0.074444  0.060069  0.055409   \n",
              "C20    0.063703  0.056548  0.048007  0.039780  0.057727  0.050959  0.043678   \n",
              "C34    0.085448  0.081551  0.074638  0.071307  0.061840  0.076781  0.071595   \n",
              "\n",
              "          C17.5       C20       C34  \n",
              "B14.5  0.069332  0.063703  0.085448  \n",
              "B15.5  0.059805  0.056548  0.081551  \n",
              "B17.5  0.056421  0.048007  0.074638  \n",
              "B20    0.054858  0.039780  0.071307  \n",
              "B34    0.074444  0.057727  0.061840  \n",
              "C14.5  0.060069  0.050959  0.076781  \n",
              "C15.5  0.055409  0.043678  0.071595  \n",
              "C17.5  0.000000  0.049279  0.074969  \n",
              "C20    0.049279  0.000000  0.059172  \n",
              "C34    0.074969  0.059172  0.000000  "
            ],
            "text/html": [
              "\n",
              "  <div id=\"df-2002b069-8621-411d-a221-271bf9481d78\">\n",
              "    <div class=\"colab-df-container\">\n",
              "      <div>\n",
              "<style scoped>\n",
              "    .dataframe tbody tr th:only-of-type {\n",
              "        vertical-align: middle;\n",
              "    }\n",
              "\n",
              "    .dataframe tbody tr th {\n",
              "        vertical-align: top;\n",
              "    }\n",
              "\n",
              "    .dataframe thead th {\n",
              "        text-align: right;\n",
              "    }\n",
              "</style>\n",
              "<table border=\"1\" class=\"dataframe\">\n",
              "  <thead>\n",
              "    <tr style=\"text-align: right;\">\n",
              "      <th></th>\n",
              "      <th>B14.5</th>\n",
              "      <th>B15.5</th>\n",
              "      <th>B17.5</th>\n",
              "      <th>B20</th>\n",
              "      <th>B34</th>\n",
              "      <th>C14.5</th>\n",
              "      <th>C15.5</th>\n",
              "      <th>C17.5</th>\n",
              "      <th>C20</th>\n",
              "      <th>C34</th>\n",
              "    </tr>\n",
              "  </thead>\n",
              "  <tbody>\n",
              "    <tr>\n",
              "      <th>B14.5</th>\n",
              "      <td>0.000000</td>\n",
              "      <td>0.032670</td>\n",
              "      <td>0.045304</td>\n",
              "      <td>0.048445</td>\n",
              "      <td>0.077943</td>\n",
              "      <td>0.049549</td>\n",
              "      <td>0.057814</td>\n",
              "      <td>0.069332</td>\n",
              "      <td>0.063703</td>\n",
              "      <td>0.085448</td>\n",
              "    </tr>\n",
              "    <tr>\n",
              "      <th>B15.5</th>\n",
              "      <td>0.032670</td>\n",
              "      <td>0.000000</td>\n",
              "      <td>0.038878</td>\n",
              "      <td>0.041561</td>\n",
              "      <td>0.073524</td>\n",
              "      <td>0.046672</td>\n",
              "      <td>0.050721</td>\n",
              "      <td>0.059805</td>\n",
              "      <td>0.056548</td>\n",
              "      <td>0.081551</td>\n",
              "    </tr>\n",
              "    <tr>\n",
              "      <th>B17.5</th>\n",
              "      <td>0.045304</td>\n",
              "      <td>0.038878</td>\n",
              "      <td>0.000000</td>\n",
              "      <td>0.036532</td>\n",
              "      <td>0.065937</td>\n",
              "      <td>0.043409</td>\n",
              "      <td>0.047504</td>\n",
              "      <td>0.056421</td>\n",
              "      <td>0.048007</td>\n",
              "      <td>0.074638</td>\n",
              "    </tr>\n",
              "    <tr>\n",
              "      <th>B20</th>\n",
              "      <td>0.048445</td>\n",
              "      <td>0.041561</td>\n",
              "      <td>0.036532</td>\n",
              "      <td>0.000000</td>\n",
              "      <td>0.052331</td>\n",
              "      <td>0.055856</td>\n",
              "      <td>0.050359</td>\n",
              "      <td>0.054858</td>\n",
              "      <td>0.039780</td>\n",
              "      <td>0.071307</td>\n",
              "    </tr>\n",
              "    <tr>\n",
              "      <th>B34</th>\n",
              "      <td>0.077943</td>\n",
              "      <td>0.073524</td>\n",
              "      <td>0.065937</td>\n",
              "      <td>0.052331</td>\n",
              "      <td>0.000000</td>\n",
              "      <td>0.080654</td>\n",
              "      <td>0.074703</td>\n",
              "      <td>0.074444</td>\n",
              "      <td>0.057727</td>\n",
              "      <td>0.061840</td>\n",
              "    </tr>\n",
              "    <tr>\n",
              "      <th>C14.5</th>\n",
              "      <td>0.049549</td>\n",
              "      <td>0.046672</td>\n",
              "      <td>0.043409</td>\n",
              "      <td>0.055856</td>\n",
              "      <td>0.080654</td>\n",
              "      <td>0.000000</td>\n",
              "      <td>0.043846</td>\n",
              "      <td>0.060069</td>\n",
              "      <td>0.050959</td>\n",
              "      <td>0.076781</td>\n",
              "    </tr>\n",
              "    <tr>\n",
              "      <th>C15.5</th>\n",
              "      <td>0.057814</td>\n",
              "      <td>0.050721</td>\n",
              "      <td>0.047504</td>\n",
              "      <td>0.050359</td>\n",
              "      <td>0.074703</td>\n",
              "      <td>0.043846</td>\n",
              "      <td>0.000000</td>\n",
              "      <td>0.055409</td>\n",
              "      <td>0.043678</td>\n",
              "      <td>0.071595</td>\n",
              "    </tr>\n",
              "    <tr>\n",
              "      <th>C17.5</th>\n",
              "      <td>0.069332</td>\n",
              "      <td>0.059805</td>\n",
              "      <td>0.056421</td>\n",
              "      <td>0.054858</td>\n",
              "      <td>0.074444</td>\n",
              "      <td>0.060069</td>\n",
              "      <td>0.055409</td>\n",
              "      <td>0.000000</td>\n",
              "      <td>0.049279</td>\n",
              "      <td>0.074969</td>\n",
              "    </tr>\n",
              "    <tr>\n",
              "      <th>C20</th>\n",
              "      <td>0.063703</td>\n",
              "      <td>0.056548</td>\n",
              "      <td>0.048007</td>\n",
              "      <td>0.039780</td>\n",
              "      <td>0.057727</td>\n",
              "      <td>0.050959</td>\n",
              "      <td>0.043678</td>\n",
              "      <td>0.049279</td>\n",
              "      <td>0.000000</td>\n",
              "      <td>0.059172</td>\n",
              "    </tr>\n",
              "    <tr>\n",
              "      <th>C34</th>\n",
              "      <td>0.085448</td>\n",
              "      <td>0.081551</td>\n",
              "      <td>0.074638</td>\n",
              "      <td>0.071307</td>\n",
              "      <td>0.061840</td>\n",
              "      <td>0.076781</td>\n",
              "      <td>0.071595</td>\n",
              "      <td>0.074969</td>\n",
              "      <td>0.059172</td>\n",
              "      <td>0.000000</td>\n",
              "    </tr>\n",
              "  </tbody>\n",
              "</table>\n",
              "</div>\n",
              "      <button class=\"colab-df-convert\" onclick=\"convertToInteractive('df-2002b069-8621-411d-a221-271bf9481d78')\"\n",
              "              title=\"Convert this dataframe to an interactive table.\"\n",
              "              style=\"display:none;\">\n",
              "        \n",
              "  <svg xmlns=\"http://www.w3.org/2000/svg\" height=\"24px\"viewBox=\"0 0 24 24\"\n",
              "       width=\"24px\">\n",
              "    <path d=\"M0 0h24v24H0V0z\" fill=\"none\"/>\n",
              "    <path d=\"M18.56 5.44l.94 2.06.94-2.06 2.06-.94-2.06-.94-.94-2.06-.94 2.06-2.06.94zm-11 1L8.5 8.5l.94-2.06 2.06-.94-2.06-.94L8.5 2.5l-.94 2.06-2.06.94zm10 10l.94 2.06.94-2.06 2.06-.94-2.06-.94-.94-2.06-.94 2.06-2.06.94z\"/><path d=\"M17.41 7.96l-1.37-1.37c-.4-.4-.92-.59-1.43-.59-.52 0-1.04.2-1.43.59L10.3 9.45l-7.72 7.72c-.78.78-.78 2.05 0 2.83L4 21.41c.39.39.9.59 1.41.59.51 0 1.02-.2 1.41-.59l7.78-7.78 2.81-2.81c.8-.78.8-2.07 0-2.86zM5.41 20L4 18.59l7.72-7.72 1.47 1.35L5.41 20z\"/>\n",
              "  </svg>\n",
              "      </button>\n",
              "      \n",
              "  <style>\n",
              "    .colab-df-container {\n",
              "      display:flex;\n",
              "      flex-wrap:wrap;\n",
              "      gap: 12px;\n",
              "    }\n",
              "\n",
              "    .colab-df-convert {\n",
              "      background-color: #E8F0FE;\n",
              "      border: none;\n",
              "      border-radius: 50%;\n",
              "      cursor: pointer;\n",
              "      display: none;\n",
              "      fill: #1967D2;\n",
              "      height: 32px;\n",
              "      padding: 0 0 0 0;\n",
              "      width: 32px;\n",
              "    }\n",
              "\n",
              "    .colab-df-convert:hover {\n",
              "      background-color: #E2EBFA;\n",
              "      box-shadow: 0px 1px 2px rgba(60, 64, 67, 0.3), 0px 1px 3px 1px rgba(60, 64, 67, 0.15);\n",
              "      fill: #174EA6;\n",
              "    }\n",
              "\n",
              "    [theme=dark] .colab-df-convert {\n",
              "      background-color: #3B4455;\n",
              "      fill: #D2E3FC;\n",
              "    }\n",
              "\n",
              "    [theme=dark] .colab-df-convert:hover {\n",
              "      background-color: #434B5C;\n",
              "      box-shadow: 0px 1px 3px 1px rgba(0, 0, 0, 0.15);\n",
              "      filter: drop-shadow(0px 1px 2px rgba(0, 0, 0, 0.3));\n",
              "      fill: #FFFFFF;\n",
              "    }\n",
              "  </style>\n",
              "\n",
              "      <script>\n",
              "        const buttonEl =\n",
              "          document.querySelector('#df-2002b069-8621-411d-a221-271bf9481d78 button.colab-df-convert');\n",
              "        buttonEl.style.display =\n",
              "          google.colab.kernel.accessAllowed ? 'block' : 'none';\n",
              "\n",
              "        async function convertToInteractive(key) {\n",
              "          const element = document.querySelector('#df-2002b069-8621-411d-a221-271bf9481d78');\n",
              "          const dataTable =\n",
              "            await google.colab.kernel.invokeFunction('convertToInteractive',\n",
              "                                                     [key], {});\n",
              "          if (!dataTable) return;\n",
              "\n",
              "          const docLinkHtml = 'Like what you see? Visit the ' +\n",
              "            '<a target=\"_blank\" href=https://colab.research.google.com/notebooks/data_table.ipynb>data table notebook</a>'\n",
              "            + ' to learn more about interactive tables.';\n",
              "          element.innerHTML = '';\n",
              "          dataTable['output_type'] = 'display_data';\n",
              "          await google.colab.output.renderOutput(dataTable, element);\n",
              "          const docLink = document.createElement('div');\n",
              "          docLink.innerHTML = docLinkHtml;\n",
              "          element.appendChild(docLink);\n",
              "        }\n",
              "      </script>\n",
              "    </div>\n",
              "  </div>\n",
              "  "
            ]
          },
          "metadata": {},
          "execution_count": 82
        }
      ]
    },
    {
      "cell_type": "code",
      "source": [
        "pca = PCA(n_components=10)\n",
        "pca.fit(dist_matrix)\n",
        "data_pca = pca.transform(dist_matrix)\n",
        "\n",
        "plt.figure(figsize=(10,10))\n",
        "plt.scatter(data_pca[:, 0], data_pca[:, 1], cmap='viridis')\n",
        "plt.title('PC1 vs PC2')\n",
        "for i in range(len(data_pca)):\n",
        "    plt.annotate(my_samples[i], (data_pca[i, 0], data_pca[i, 1]))\n",
        "plt.show()"
      ],
      "metadata": {
        "colab": {
          "base_uri": "https://localhost:8080/",
          "height": 607
        },
        "id": "m16FIvegRpAo",
        "outputId": "a48dccd4-68ba-4636-ad33-1c9acabb4cd1"
      },
      "execution_count": null,
      "outputs": [
        {
          "output_type": "display_data",
          "data": {
            "text/plain": [
              "<Figure size 720x720 with 1 Axes>"
            ],
            "image/png": "[encoded data removed]"
          },
          "metadata": {
            "needs_background": "light"
          }
        }
      ]
    },
    {
      "cell_type": "markdown",
      "source": [
        "* Хорошо разделяются образцы взрослых мышей (34 дня) и юных.\n",
        "* Образцы разных отделов мозга хорошо кластеризуются между собой. То есть на экспрессию влияет в основном тот факт, взрослая ли мышь, а также ткань, из которой был взят образец."
      ],
      "metadata": {
        "id": "is0-9PB6dlXq"
      }
    },
    {
      "cell_type": "code",
      "source": [],
      "metadata": {
        "id": "W4uKl7jqj_bP"
      },
      "execution_count": null,
      "outputs": []
    }
  ]
}