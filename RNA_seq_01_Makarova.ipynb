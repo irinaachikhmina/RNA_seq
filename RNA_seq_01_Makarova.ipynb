{
  "nbformat": 4,
  "nbformat_minor": 0,
  "metadata": {
    "colab": {
      "provenance": []
    },
    "kernelspec": {
      "name": "python3",
      "display_name": "Python 3"
    },
    "language_info": {
      "name": "python"
    }
  },
  "cells": [
    {
      "cell_type": "markdown",
      "source": [
        "# Картирование\n",
        "### Ира Макарова\n",
        "### декабрь 2022\n",
        "\n"
      ],
      "metadata": {
        "id": "_hAlpVwkB7w8"
      }
    },
    {
      "cell_type": "code",
      "source": [
        "!pip install -q condacolab\n",
        "import condacolab\n",
        "condacolab.install()"
      ],
      "metadata": {
        "id": "17PGwDHjfaVb"
      },
      "execution_count": null,
      "outputs": []
    },
    {
      "cell_type": "code",
      "source": [
        "!conda install -y -c bioconda samtools"
      ],
      "metadata": {
        "id": "xTmBnI9HtKrx"
      },
      "execution_count": null,
      "outputs": []
    },
    {
      "cell_type": "code",
      "source": [
        "!conda install -c bioconda bedtools"
      ],
      "metadata": {
        "id": "fLx0jN1EL88j"
      },
      "execution_count": null,
      "outputs": []
    },
    {
      "cell_type": "code",
      "source": [
        "!conda install -c bioconda bwa"
      ],
      "metadata": {
        "id": "2_k_oJj-PZlt"
      },
      "execution_count": null,
      "outputs": []
    },
    {
      "cell_type": "markdown",
      "source": [
        "## 1) Проверка входные данные при помощи fastqc"
      ],
      "metadata": {
        "id": "LLNa1pueW-nK"
      }
    },
    {
      "cell_type": "code",
      "source": [
        "# Скачиваем fastqc\n",
        "!conda install -y -c bioconda fastqc"
      ],
      "metadata": {
        "id": "THwvpMUie78G"
      },
      "execution_count": null,
      "outputs": []
    },
    {
      "cell_type": "code",
      "source": [
        "# И можно multiqc, но не обязательно, так как образцов немного\n",
        "#!conda install -c bioconda -c conda-forge multiqc"
      ],
      "metadata": {
        "id": "vT9ADGsDguap"
      },
      "execution_count": null,
      "outputs": []
    },
    {
      "cell_type": "code",
      "source": [
        "from google.colab import drive\n",
        "drive.mount('/content/drive')\n",
        "!mkdir index"
      ],
      "metadata": {
        "id": "dsgK30vC8cVT",
        "colab": {
          "base_uri": "https://localhost:8080/"
        },
        "outputId": "4ac1714e-57d7-44b8-dc85-a700771ea906"
      },
      "execution_count": null,
      "outputs": [
        {
          "output_type": "stream",
          "name": "stdout",
          "text": [
            "Mounted at /content/drive\n"
          ]
        }
      ]
    },
    {
      "cell_type": "code",
      "source": [
        "# Проверяем все данные\n",
        "!mkdir fastqc\n",
        "!fastqc drive/MyDrive/NGS/01.rna/*"
      ],
      "metadata": {
        "colab": {
          "base_uri": "https://localhost:8080/"
        },
        "id": "8Faz5XwkgQjJ",
        "outputId": "c53a94de-2441-4471-c45e-41a6baee481f"
      },
      "execution_count": null,
      "outputs": [
        {
          "output_type": "stream",
          "name": "stdout",
          "text": [
            "Failed to process drive/MyDrive/NGS/01.rna/B14.5_fastqc.html\n",
            "uk.ac.babraham.FastQC.Sequence.SequenceFormatException: ID line didn't start with '@'\n",
            "\tat uk.ac.babraham.FastQC.Sequence.FastQFile.readNext(FastQFile.java:158)\n",
            "\tat uk.ac.babraham.FastQC.Sequence.FastQFile.<init>(FastQFile.java:89)\n",
            "\tat uk.ac.babraham.FastQC.Sequence.SequenceFactory.getSequenceFile(SequenceFactory.java:106)\n",
            "\tat uk.ac.babraham.FastQC.Sequence.SequenceFactory.getSequenceFile(SequenceFactory.java:62)\n",
            "\tat uk.ac.babraham.FastQC.Analysis.OfflineRunner.processFile(OfflineRunner.java:159)\n",
            "\tat uk.ac.babraham.FastQC.Analysis.OfflineRunner.<init>(OfflineRunner.java:121)\n",
            "\tat uk.ac.babraham.FastQC.FastQCApplication.main(FastQCApplication.java:316)\n",
            "Failed to process drive/MyDrive/NGS/01.rna/B14.5_fastqc.zip\n",
            "uk.ac.babraham.FastQC.Sequence.SequenceFormatException: ID line didn't start with '@'\n",
            "\tat uk.ac.babraham.FastQC.Sequence.FastQFile.readNext(FastQFile.java:158)\n",
            "\tat uk.ac.babraham.FastQC.Sequence.FastQFile.<init>(FastQFile.java:89)\n",
            "\tat uk.ac.babraham.FastQC.Sequence.SequenceFactory.getSequenceFile(SequenceFactory.java:106)\n",
            "\tat uk.ac.babraham.FastQC.Sequence.SequenceFactory.getSequenceFile(SequenceFactory.java:62)\n",
            "\tat uk.ac.babraham.FastQC.Analysis.OfflineRunner.processFile(OfflineRunner.java:159)\n",
            "\tat uk.ac.babraham.FastQC.Analysis.OfflineRunner.<init>(OfflineRunner.java:121)\n",
            "\tat uk.ac.babraham.FastQC.FastQCApplication.main(FastQCApplication.java:316)\n",
            "Started analysis of B14.5.fq\n",
            "Failed to process drive/MyDrive/NGS/01.rna/B15.5_fastqc.html\n",
            "uk.ac.babraham.FastQC.Sequence.SequenceFormatException: ID line didn't start with '@'\n",
            "\tat uk.ac.babraham.FastQC.Sequence.FastQFile.readNext(FastQFile.java:158)\n",
            "\tat uk.ac.babraham.FastQC.Sequence.FastQFile.<init>(FastQFile.java:89)\n",
            "\tat uk.ac.babraham.FastQC.Sequence.SequenceFactory.getSequenceFile(SequenceFactory.java:106)\n",
            "\tat uk.ac.babraham.FastQC.Sequence.SequenceFactory.getSequenceFile(SequenceFactory.java:62)\n",
            "\tat uk.ac.babraham.FastQC.Analysis.OfflineRunner.processFile(OfflineRunner.java:159)\n",
            "\tat uk.ac.babraham.FastQC.Analysis.OfflineRunner.<init>(OfflineRunner.java:121)\n",
            "\tat uk.ac.babraham.FastQC.FastQCApplication.main(FastQCApplication.java:316)\n",
            "Failed to process drive/MyDrive/NGS/01.rna/B15.5_fastqc.zip\n",
            "uk.ac.babraham.FastQC.Sequence.SequenceFormatException: ID line didn't start with '@'\n",
            "\tat uk.ac.babraham.FastQC.Sequence.FastQFile.readNext(FastQFile.java:158)\n",
            "\tat uk.ac.babraham.FastQC.Sequence.FastQFile.<init>(FastQFile.java:89)\n",
            "\tat uk.ac.babraham.FastQC.Sequence.SequenceFactory.getSequenceFile(SequenceFactory.java:106)\n",
            "\tat uk.ac.babraham.FastQC.Sequence.SequenceFactory.getSequenceFile(SequenceFactory.java:62)\n",
            "\tat uk.ac.babraham.FastQC.Analysis.OfflineRunner.processFile(OfflineRunner.java:159)\n",
            "\tat uk.ac.babraham.FastQC.Analysis.OfflineRunner.<init>(OfflineRunner.java:121)\n",
            "\tat uk.ac.babraham.FastQC.FastQCApplication.main(FastQCApplication.java:316)\n",
            "Failed to process drive/MyDrive/NGS/01.rna/B17.5_fastqc.html\n",
            "uk.ac.babraham.FastQC.Sequence.SequenceFormatException: ID line didn't start with '@'\n",
            "\tat uk.ac.babraham.FastQC.Sequence.FastQFile.readNext(FastQFile.java:158)\n",
            "\tat uk.ac.babraham.FastQC.Sequence.FastQFile.<init>(FastQFile.java:89)\n",
            "\tat uk.ac.babraham.FastQC.Sequence.SequenceFactory.getSequenceFile(SequenceFactory.java:106)\n",
            "\tat uk.ac.babraham.FastQC.Sequence.SequenceFactory.getSequenceFile(SequenceFactory.java:62)\n",
            "\tat uk.ac.babraham.FastQC.Analysis.OfflineRunner.processFile(OfflineRunner.java:159)\n",
            "\tat uk.ac.babraham.FastQC.Analysis.OfflineRunner.<init>(OfflineRunner.java:121)\n",
            "\tat uk.ac.babraham.FastQC.FastQCApplication.main(FastQCApplication.java:316)\n",
            "Approx 5% complete for B14.5.fq\n",
            "Failed to process drive/MyDrive/NGS/01.rna/B17.5_fastqc.zip\n",
            "uk.ac.babraham.FastQC.Sequence.SequenceFormatException: ID line didn't start with '@'\n",
            "\tat uk.ac.babraham.FastQC.Sequence.FastQFile.readNext(FastQFile.java:158)\n",
            "\tat uk.ac.babraham.FastQC.Sequence.FastQFile.<init>(FastQFile.java:89)\n",
            "\tat uk.ac.babraham.FastQC.Sequence.SequenceFactory.getSequenceFile(SequenceFactory.java:106)\n",
            "\tat uk.ac.babraham.FastQC.Sequence.SequenceFactory.getSequenceFile(SequenceFactory.java:62)\n",
            "\tat uk.ac.babraham.FastQC.Analysis.OfflineRunner.processFile(OfflineRunner.java:159)\n",
            "\tat uk.ac.babraham.FastQC.Analysis.OfflineRunner.<init>(OfflineRunner.java:121)\n",
            "\tat uk.ac.babraham.FastQC.FastQCApplication.main(FastQCApplication.java:316)\n",
            "Failed to process drive/MyDrive/NGS/01.rna/B20_fastqc.html\n",
            "uk.ac.babraham.FastQC.Sequence.SequenceFormatException: ID line didn't start with '@'\n",
            "\tat uk.ac.babraham.FastQC.Sequence.FastQFile.readNext(FastQFile.java:158)\n",
            "\tat uk.ac.babraham.FastQC.Sequence.FastQFile.<init>(FastQFile.java:89)\n",
            "\tat uk.ac.babraham.FastQC.Sequence.SequenceFactory.getSequenceFile(SequenceFactory.java:106)\n",
            "\tat uk.ac.babraham.FastQC.Sequence.SequenceFactory.getSequenceFile(SequenceFactory.java:62)\n",
            "\tat uk.ac.babraham.FastQC.Analysis.OfflineRunner.processFile(OfflineRunner.java:159)\n",
            "\tat uk.ac.babraham.FastQC.Analysis.OfflineRunner.<init>(OfflineRunner.java:121)\n",
            "\tat uk.ac.babraham.FastQC.FastQCApplication.main(FastQCApplication.java:316)\n",
            "Approx 10% complete for B14.5.fq\n",
            "Failed to process drive/MyDrive/NGS/01.rna/B20_fastqc.zip\n",
            "uk.ac.babraham.FastQC.Sequence.SequenceFormatException: ID line didn't start with '@'\n",
            "\tat uk.ac.babraham.FastQC.Sequence.FastQFile.readNext(FastQFile.java:158)\n",
            "\tat uk.ac.babraham.FastQC.Sequence.FastQFile.<init>(FastQFile.java:89)\n",
            "\tat uk.ac.babraham.FastQC.Sequence.SequenceFactory.getSequenceFile(SequenceFactory.java:106)\n",
            "\tat uk.ac.babraham.FastQC.Sequence.SequenceFactory.getSequenceFile(SequenceFactory.java:62)\n",
            "\tat uk.ac.babraham.FastQC.Analysis.OfflineRunner.processFile(OfflineRunner.java:159)\n",
            "\tat uk.ac.babraham.FastQC.Analysis.OfflineRunner.<init>(OfflineRunner.java:121)\n",
            "\tat uk.ac.babraham.FastQC.FastQCApplication.main(FastQCApplication.java:316)\n",
            "Approx 15% complete for B14.5.fq\n",
            "Approx 20% complete for B14.5.fq\n",
            "Failed to process drive/MyDrive/NGS/01.rna/B34_fastqc.html\n",
            "uk.ac.babraham.FastQC.Sequence.SequenceFormatException: ID line didn't start with '@'\n",
            "\tat uk.ac.babraham.FastQC.Sequence.FastQFile.readNext(FastQFile.java:158)\n",
            "\tat uk.ac.babraham.FastQC.Sequence.FastQFile.<init>(FastQFile.java:89)\n",
            "\tat uk.ac.babraham.FastQC.Sequence.SequenceFactory.getSequenceFile(SequenceFactory.java:106)\n",
            "\tat uk.ac.babraham.FastQC.Sequence.SequenceFactory.getSequenceFile(SequenceFactory.java:62)\n",
            "\tat uk.ac.babraham.FastQC.Analysis.OfflineRunner.processFile(OfflineRunner.java:159)\n",
            "\tat uk.ac.babraham.FastQC.Analysis.OfflineRunner.<init>(OfflineRunner.java:121)\n",
            "\tat uk.ac.babraham.FastQC.FastQCApplication.main(FastQCApplication.java:316)\n",
            "Approx 25% complete for B14.5.fq\n",
            "Failed to process drive/MyDrive/NGS/01.rna/B34_fastqc.zip\n",
            "uk.ac.babraham.FastQC.Sequence.SequenceFormatException: ID line didn't start with '@'\n",
            "\tat uk.ac.babraham.FastQC.Sequence.FastQFile.readNext(FastQFile.java:158)\n",
            "\tat uk.ac.babraham.FastQC.Sequence.FastQFile.<init>(FastQFile.java:89)\n",
            "\tat uk.ac.babraham.FastQC.Sequence.SequenceFactory.getSequenceFile(SequenceFactory.java:106)\n",
            "\tat uk.ac.babraham.FastQC.Sequence.SequenceFactory.getSequenceFile(SequenceFactory.java:62)\n",
            "\tat uk.ac.babraham.FastQC.Analysis.OfflineRunner.processFile(OfflineRunner.java:159)\n",
            "\tat uk.ac.babraham.FastQC.Analysis.OfflineRunner.<init>(OfflineRunner.java:121)\n",
            "\tat uk.ac.babraham.FastQC.FastQCApplication.main(FastQCApplication.java:316)\n",
            "Approx 30% complete for B14.5.fq\n",
            "Failed to process drive/MyDrive/NGS/01.rna/C14.5_fastqc.html\n",
            "uk.ac.babraham.FastQC.Sequence.SequenceFormatException: ID line didn't start with '@'\n",
            "\tat uk.ac.babraham.FastQC.Sequence.FastQFile.readNext(FastQFile.java:158)\n",
            "\tat uk.ac.babraham.FastQC.Sequence.FastQFile.<init>(FastQFile.java:89)\n",
            "\tat uk.ac.babraham.FastQC.Sequence.SequenceFactory.getSequenceFile(SequenceFactory.java:106)\n",
            "\tat uk.ac.babraham.FastQC.Sequence.SequenceFactory.getSequenceFile(SequenceFactory.java:62)\n",
            "\tat uk.ac.babraham.FastQC.Analysis.OfflineRunner.processFile(OfflineRunner.java:159)\n",
            "\tat uk.ac.babraham.FastQC.Analysis.OfflineRunner.<init>(OfflineRunner.java:121)\n",
            "\tat uk.ac.babraham.FastQC.FastQCApplication.main(FastQCApplication.java:316)\n",
            "Approx 35% complete for B14.5.fq\n",
            "Failed to process drive/MyDrive/NGS/01.rna/C14.5_fastqc.zip\n",
            "uk.ac.babraham.FastQC.Sequence.SequenceFormatException: ID line didn't start with '@'\n",
            "\tat uk.ac.babraham.FastQC.Sequence.FastQFile.readNext(FastQFile.java:158)\n",
            "\tat uk.ac.babraham.FastQC.Sequence.FastQFile.<init>(FastQFile.java:89)\n",
            "\tat uk.ac.babraham.FastQC.Sequence.SequenceFactory.getSequenceFile(SequenceFactory.java:106)\n",
            "\tat uk.ac.babraham.FastQC.Sequence.SequenceFactory.getSequenceFile(SequenceFactory.java:62)\n",
            "\tat uk.ac.babraham.FastQC.Analysis.OfflineRunner.processFile(OfflineRunner.java:159)\n",
            "\tat uk.ac.babraham.FastQC.Analysis.OfflineRunner.<init>(OfflineRunner.java:121)\n",
            "\tat uk.ac.babraham.FastQC.FastQCApplication.main(FastQCApplication.java:316)\n",
            "Approx 40% complete for B14.5.fq\n",
            "Failed to process drive/MyDrive/NGS/01.rna/C15.5_fastqc.html\n",
            "uk.ac.babraham.FastQC.Sequence.SequenceFormatException: ID line didn't start with '@'\n",
            "\tat uk.ac.babraham.FastQC.Sequence.FastQFile.readNext(FastQFile.java:158)\n",
            "\tat uk.ac.babraham.FastQC.Sequence.FastQFile.<init>(FastQFile.java:89)\n",
            "\tat uk.ac.babraham.FastQC.Sequence.SequenceFactory.getSequenceFile(SequenceFactory.java:106)\n",
            "\tat uk.ac.babraham.FastQC.Sequence.SequenceFactory.getSequenceFile(SequenceFactory.java:62)\n",
            "\tat uk.ac.babraham.FastQC.Analysis.OfflineRunner.processFile(OfflineRunner.java:159)\n",
            "\tat uk.ac.babraham.FastQC.Analysis.OfflineRunner.<init>(OfflineRunner.java:121)\n",
            "\tat uk.ac.babraham.FastQC.FastQCApplication.main(FastQCApplication.java:316)\n",
            "Approx 45% complete for B14.5.fq\n",
            "Failed to process drive/MyDrive/NGS/01.rna/C15.5_fastqc.zip\n",
            "uk.ac.babraham.FastQC.Sequence.SequenceFormatException: ID line didn't start with '@'\n",
            "\tat uk.ac.babraham.FastQC.Sequence.FastQFile.readNext(FastQFile.java:158)\n",
            "\tat uk.ac.babraham.FastQC.Sequence.FastQFile.<init>(FastQFile.java:89)\n",
            "\tat uk.ac.babraham.FastQC.Sequence.SequenceFactory.getSequenceFile(SequenceFactory.java:106)\n",
            "\tat uk.ac.babraham.FastQC.Sequence.SequenceFactory.getSequenceFile(SequenceFactory.java:62)\n",
            "\tat uk.ac.babraham.FastQC.Analysis.OfflineRunner.processFile(OfflineRunner.java:159)\n",
            "\tat uk.ac.babraham.FastQC.Analysis.OfflineRunner.<init>(OfflineRunner.java:121)\n",
            "\tat uk.ac.babraham.FastQC.FastQCApplication.main(FastQCApplication.java:316)\n",
            "Approx 50% complete for B14.5.fq\n",
            "Failed to process drive/MyDrive/NGS/01.rna/C17.5_fastqc.html\n",
            "uk.ac.babraham.FastQC.Sequence.SequenceFormatException: ID line didn't start with '@'\n",
            "\tat uk.ac.babraham.FastQC.Sequence.FastQFile.readNext(FastQFile.java:158)\n",
            "\tat uk.ac.babraham.FastQC.Sequence.FastQFile.<init>(FastQFile.java:89)\n",
            "\tat uk.ac.babraham.FastQC.Sequence.SequenceFactory.getSequenceFile(SequenceFactory.java:106)\n",
            "\tat uk.ac.babraham.FastQC.Sequence.SequenceFactory.getSequenceFile(SequenceFactory.java:62)\n",
            "\tat uk.ac.babraham.FastQC.Analysis.OfflineRunner.processFile(OfflineRunner.java:159)\n",
            "\tat uk.ac.babraham.FastQC.Analysis.OfflineRunner.<init>(OfflineRunner.java:121)\n",
            "\tat uk.ac.babraham.FastQC.FastQCApplication.main(FastQCApplication.java:316)\n",
            "Approx 55% complete for B14.5.fq\n",
            "Failed to process drive/MyDrive/NGS/01.rna/C17.5_fastqc.zip\n",
            "uk.ac.babraham.FastQC.Sequence.SequenceFormatException: ID line didn't start with '@'\n",
            "\tat uk.ac.babraham.FastQC.Sequence.FastQFile.readNext(FastQFile.java:158)\n",
            "\tat uk.ac.babraham.FastQC.Sequence.FastQFile.<init>(FastQFile.java:89)\n",
            "\tat uk.ac.babraham.FastQC.Sequence.SequenceFactory.getSequenceFile(SequenceFactory.java:106)\n",
            "\tat uk.ac.babraham.FastQC.Sequence.SequenceFactory.getSequenceFile(SequenceFactory.java:62)\n",
            "\tat uk.ac.babraham.FastQC.Analysis.OfflineRunner.processFile(OfflineRunner.java:159)\n",
            "\tat uk.ac.babraham.FastQC.Analysis.OfflineRunner.<init>(OfflineRunner.java:121)\n",
            "\tat uk.ac.babraham.FastQC.FastQCApplication.main(FastQCApplication.java:316)\n",
            "Approx 60% complete for B14.5.fq\n",
            "Approx 65% complete for B14.5.fq\n",
            "Failed to process drive/MyDrive/NGS/01.rna/C20_fastqc.html\n",
            "uk.ac.babraham.FastQC.Sequence.SequenceFormatException: ID line didn't start with '@'\n",
            "\tat uk.ac.babraham.FastQC.Sequence.FastQFile.readNext(FastQFile.java:158)\n",
            "\tat uk.ac.babraham.FastQC.Sequence.FastQFile.<init>(FastQFile.java:89)\n",
            "\tat uk.ac.babraham.FastQC.Sequence.SequenceFactory.getSequenceFile(SequenceFactory.java:106)\n",
            "\tat uk.ac.babraham.FastQC.Sequence.SequenceFactory.getSequenceFile(SequenceFactory.java:62)\n",
            "\tat uk.ac.babraham.FastQC.Analysis.OfflineRunner.processFile(OfflineRunner.java:159)\n",
            "\tat uk.ac.babraham.FastQC.Analysis.OfflineRunner.<init>(OfflineRunner.java:121)\n",
            "\tat uk.ac.babraham.FastQC.FastQCApplication.main(FastQCApplication.java:316)\n",
            "Approx 70% complete for B14.5.fq\n",
            "Failed to process drive/MyDrive/NGS/01.rna/C20_fastqc.zip\n",
            "uk.ac.babraham.FastQC.Sequence.SequenceFormatException: ID line didn't start with '@'\n",
            "\tat uk.ac.babraham.FastQC.Sequence.FastQFile.readNext(FastQFile.java:158)\n",
            "\tat uk.ac.babraham.FastQC.Sequence.FastQFile.<init>(FastQFile.java:89)\n",
            "\tat uk.ac.babraham.FastQC.Sequence.SequenceFactory.getSequenceFile(SequenceFactory.java:106)\n",
            "\tat uk.ac.babraham.FastQC.Sequence.SequenceFactory.getSequenceFile(SequenceFactory.java:62)\n",
            "\tat uk.ac.babraham.FastQC.Analysis.OfflineRunner.processFile(OfflineRunner.java:159)\n",
            "\tat uk.ac.babraham.FastQC.Analysis.OfflineRunner.<init>(OfflineRunner.java:121)\n",
            "\tat uk.ac.babraham.FastQC.FastQCApplication.main(FastQCApplication.java:316)\n",
            "Approx 75% complete for B14.5.fq\n",
            "Failed to process drive/MyDrive/NGS/01.rna/C34_fastqc.html\n",
            "uk.ac.babraham.FastQC.Sequence.SequenceFormatException: ID line didn't start with '@'\n",
            "\tat uk.ac.babraham.FastQC.Sequence.FastQFile.readNext(FastQFile.java:158)\n",
            "\tat uk.ac.babraham.FastQC.Sequence.FastQFile.<init>(FastQFile.java:89)\n",
            "\tat uk.ac.babraham.FastQC.Sequence.SequenceFactory.getSequenceFile(SequenceFactory.java:106)\n",
            "\tat uk.ac.babraham.FastQC.Sequence.SequenceFactory.getSequenceFile(SequenceFactory.java:62)\n",
            "\tat uk.ac.babraham.FastQC.Analysis.OfflineRunner.processFile(OfflineRunner.java:159)\n",
            "\tat uk.ac.babraham.FastQC.Analysis.OfflineRunner.<init>(OfflineRunner.java:121)\n",
            "\tat uk.ac.babraham.FastQC.FastQCApplication.main(FastQCApplication.java:316)\n",
            "Approx 80% complete for B14.5.fq\n",
            "Failed to process drive/MyDrive/NGS/01.rna/C34_fastqc.zip\n",
            "uk.ac.babraham.FastQC.Sequence.SequenceFormatException: ID line didn't start with '@'\n",
            "\tat uk.ac.babraham.FastQC.Sequence.FastQFile.readNext(FastQFile.java:158)\n",
            "\tat uk.ac.babraham.FastQC.Sequence.FastQFile.<init>(FastQFile.java:89)\n",
            "\tat uk.ac.babraham.FastQC.Sequence.SequenceFactory.getSequenceFile(SequenceFactory.java:106)\n",
            "\tat uk.ac.babraham.FastQC.Sequence.SequenceFactory.getSequenceFile(SequenceFactory.java:62)\n",
            "\tat uk.ac.babraham.FastQC.Analysis.OfflineRunner.processFile(OfflineRunner.java:159)\n",
            "\tat uk.ac.babraham.FastQC.Analysis.OfflineRunner.<init>(OfflineRunner.java:121)\n",
            "\tat uk.ac.babraham.FastQC.FastQCApplication.main(FastQCApplication.java:316)\n",
            "Approx 85% complete for B14.5.fq\n",
            "Approx 90% complete for B14.5.fq\n",
            "Approx 95% complete for B14.5.fq\n",
            "Analysis complete for B14.5.fq\n",
            "Started analysis of B15.5.fq\n",
            "Approx 5% complete for B15.5.fq\n",
            "Approx 10% complete for B15.5.fq\n",
            "Approx 15% complete for B15.5.fq\n",
            "Approx 20% complete for B15.5.fq\n",
            "Approx 25% complete for B15.5.fq\n",
            "Approx 30% complete for B15.5.fq\n",
            "Approx 35% complete for B15.5.fq\n",
            "Approx 40% complete for B15.5.fq\n",
            "Approx 45% complete for B15.5.fq\n",
            "Approx 50% complete for B15.5.fq\n",
            "Approx 55% complete for B15.5.fq\n",
            "Approx 60% complete for B15.5.fq\n",
            "Approx 65% complete for B15.5.fq\n",
            "Approx 70% complete for B15.5.fq\n",
            "Approx 75% complete for B15.5.fq\n",
            "Approx 80% complete for B15.5.fq\n",
            "Approx 85% complete for B15.5.fq\n",
            "Approx 90% complete for B15.5.fq\n",
            "Approx 95% complete for B15.5.fq\n",
            "Analysis complete for B15.5.fq\n",
            "Started analysis of B17.5.fq\n",
            "Approx 5% complete for B17.5.fq\n",
            "Approx 10% complete for B17.5.fq\n",
            "Approx 15% complete for B17.5.fq\n",
            "Approx 20% complete for B17.5.fq\n",
            "Approx 25% complete for B17.5.fq\n",
            "Approx 30% complete for B17.5.fq\n",
            "Approx 35% complete for B17.5.fq\n",
            "Approx 40% complete for B17.5.fq\n",
            "Approx 45% complete for B17.5.fq\n",
            "Approx 50% complete for B17.5.fq\n",
            "Approx 55% complete for B17.5.fq\n",
            "Approx 60% complete for B17.5.fq\n",
            "Approx 65% complete for B17.5.fq\n",
            "Approx 70% complete for B17.5.fq\n",
            "Approx 75% complete for B17.5.fq\n",
            "Approx 80% complete for B17.5.fq\n",
            "Approx 85% complete for B17.5.fq\n",
            "Approx 90% complete for B17.5.fq\n",
            "Approx 95% complete for B17.5.fq\n",
            "Approx 100% complete for B17.5.fq\n",
            "Analysis complete for B17.5.fq\n",
            "Started analysis of B20.fq\n",
            "Approx 5% complete for B20.fq\n",
            "Approx 10% complete for B20.fq\n",
            "Approx 15% complete for B20.fq\n",
            "Approx 20% complete for B20.fq\n",
            "Approx 25% complete for B20.fq\n",
            "Approx 30% complete for B20.fq\n",
            "Approx 35% complete for B20.fq\n",
            "Approx 40% complete for B20.fq\n",
            "Approx 45% complete for B20.fq\n",
            "Approx 50% complete for B20.fq\n",
            "Approx 55% complete for B20.fq\n",
            "Approx 60% complete for B20.fq\n",
            "Approx 65% complete for B20.fq\n",
            "Approx 70% complete for B20.fq\n",
            "Approx 75% complete for B20.fq\n",
            "Approx 80% complete for B20.fq\n",
            "Approx 85% complete for B20.fq\n",
            "Approx 90% complete for B20.fq\n",
            "Approx 95% complete for B20.fq\n",
            "Analysis complete for B20.fq\n",
            "Started analysis of B34.fq\n",
            "Approx 5% complete for B34.fq\n",
            "Approx 10% complete for B34.fq\n",
            "Approx 15% complete for B34.fq\n",
            "Approx 20% complete for B34.fq\n",
            "Approx 25% complete for B34.fq\n",
            "Approx 30% complete for B34.fq\n",
            "Approx 35% complete for B34.fq\n",
            "Approx 40% complete for B34.fq\n",
            "Approx 45% complete for B34.fq\n",
            "Approx 50% complete for B34.fq\n",
            "Approx 55% complete for B34.fq\n",
            "Approx 60% complete for B34.fq\n",
            "Approx 65% complete for B34.fq\n",
            "Approx 70% complete for B34.fq\n",
            "Approx 75% complete for B34.fq\n",
            "Approx 80% complete for B34.fq\n",
            "Approx 85% complete for B34.fq\n",
            "Approx 90% complete for B34.fq\n",
            "Approx 95% complete for B34.fq\n",
            "Analysis complete for B34.fq\n",
            "Started analysis of C14.5.fq\n",
            "Approx 5% complete for C14.5.fq\n",
            "Approx 10% complete for C14.5.fq\n",
            "Approx 15% complete for C14.5.fq\n",
            "Approx 20% complete for C14.5.fq\n",
            "Approx 25% complete for C14.5.fq\n",
            "Approx 30% complete for C14.5.fq\n",
            "Approx 35% complete for C14.5.fq\n",
            "Approx 40% complete for C14.5.fq\n",
            "Approx 45% complete for C14.5.fq\n",
            "Approx 50% complete for C14.5.fq\n",
            "Approx 55% complete for C14.5.fq\n",
            "Approx 60% complete for C14.5.fq\n",
            "Approx 65% complete for C14.5.fq\n",
            "Approx 70% complete for C14.5.fq\n",
            "Approx 75% complete for C14.5.fq\n",
            "Approx 80% complete for C14.5.fq\n",
            "Approx 85% complete for C14.5.fq\n",
            "Approx 90% complete for C14.5.fq\n",
            "Approx 95% complete for C14.5.fq\n",
            "Analysis complete for C14.5.fq\n",
            "Started analysis of C15.5.fq\n",
            "Approx 5% complete for C15.5.fq\n",
            "Approx 10% complete for C15.5.fq\n",
            "Approx 15% complete for C15.5.fq\n",
            "Approx 20% complete for C15.5.fq\n",
            "Approx 25% complete for C15.5.fq\n",
            "Approx 30% complete for C15.5.fq\n",
            "Approx 35% complete for C15.5.fq\n",
            "Approx 40% complete for C15.5.fq\n",
            "Approx 45% complete for C15.5.fq\n",
            "Approx 50% complete for C15.5.fq\n",
            "Approx 55% complete for C15.5.fq\n",
            "Approx 60% complete for C15.5.fq\n",
            "Approx 65% complete for C15.5.fq\n",
            "Approx 70% complete for C15.5.fq\n",
            "Approx 75% complete for C15.5.fq\n",
            "Approx 80% complete for C15.5.fq\n",
            "Approx 85% complete for C15.5.fq\n",
            "Approx 90% complete for C15.5.fq\n",
            "Approx 95% complete for C15.5.fq\n",
            "Analysis complete for C15.5.fq\n",
            "Started analysis of C17.5.fq\n",
            "Approx 5% complete for C17.5.fq\n",
            "Approx 10% complete for C17.5.fq\n",
            "Approx 15% complete for C17.5.fq\n",
            "Approx 20% complete for C17.5.fq\n",
            "Approx 25% complete for C17.5.fq\n",
            "Approx 30% complete for C17.5.fq\n",
            "Approx 35% complete for C17.5.fq\n",
            "Approx 40% complete for C17.5.fq\n",
            "Approx 45% complete for C17.5.fq\n",
            "Approx 50% complete for C17.5.fq\n",
            "Approx 55% complete for C17.5.fq\n",
            "Approx 60% complete for C17.5.fq\n",
            "Approx 65% complete for C17.5.fq\n",
            "Approx 70% complete for C17.5.fq\n",
            "Approx 75% complete for C17.5.fq\n",
            "Approx 80% complete for C17.5.fq\n",
            "Approx 85% complete for C17.5.fq\n",
            "Approx 90% complete for C17.5.fq\n",
            "Approx 95% complete for C17.5.fq\n",
            "Analysis complete for C17.5.fq\n",
            "Started analysis of C20.fq\n",
            "Approx 5% complete for C20.fq\n",
            "Approx 10% complete for C20.fq\n",
            "Approx 15% complete for C20.fq\n",
            "Approx 20% complete for C20.fq\n",
            "Approx 25% complete for C20.fq\n",
            "Approx 30% complete for C20.fq\n",
            "Approx 35% complete for C20.fq\n",
            "Approx 40% complete for C20.fq\n",
            "Approx 45% complete for C20.fq\n",
            "Approx 50% complete for C20.fq\n",
            "Approx 55% complete for C20.fq\n",
            "Approx 60% complete for C20.fq\n",
            "Approx 65% complete for C20.fq\n",
            "Approx 70% complete for C20.fq\n",
            "Approx 75% complete for C20.fq\n",
            "Approx 80% complete for C20.fq\n",
            "Approx 85% complete for C20.fq\n",
            "Approx 90% complete for C20.fq\n",
            "Approx 95% complete for C20.fq\n",
            "Analysis complete for C20.fq\n",
            "Started analysis of C34.fq\n",
            "Approx 5% complete for C34.fq\n",
            "Approx 10% complete for C34.fq\n",
            "Approx 15% complete for C34.fq\n",
            "Approx 20% complete for C34.fq\n",
            "Approx 25% complete for C34.fq\n",
            "Approx 30% complete for C34.fq\n",
            "Approx 35% complete for C34.fq\n",
            "Approx 40% complete for C34.fq\n",
            "Approx 45% complete for C34.fq\n",
            "Approx 50% complete for C34.fq\n",
            "Approx 55% complete for C34.fq\n",
            "Approx 60% complete for C34.fq\n",
            "Approx 65% complete for C34.fq\n",
            "Approx 70% complete for C34.fq\n",
            "Approx 75% complete for C34.fq\n",
            "Approx 80% complete for C34.fq\n",
            "Approx 85% complete for C34.fq\n",
            "Approx 90% complete for C34.fq\n",
            "Approx 95% complete for C34.fq\n",
            "Analysis complete for C34.fq\n"
          ]
        }
      ]
    },
    {
      "cell_type": "code",
      "source": [
        "# Смотрим отчеты, все в пределах нормы, один отчет для примера ниже"
      ],
      "metadata": {
        "id": "QM2mE-LJxWE-"
      },
      "execution_count": null,
      "outputs": []
    },
    {
      "cell_type": "markdown",
      "source": [
        "![image.png](data:image/png;base64,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)"
      ],
      "metadata": {
        "id": "zL8HpSJCxfnM"
      }
    },
    {
      "cell_type": "markdown",
      "source": [
        "##2) hisat2"
      ],
      "metadata": {
        "id": "GZu_FXoM6VvB"
      }
    },
    {
      "cell_type": "code",
      "source": [
        "!conda install -y -c bioconda hisat2"
      ],
      "metadata": {
        "id": "y5-9eewAk5wD"
      },
      "execution_count": null,
      "outputs": []
    },
    {
      "cell_type": "code",
      "source": [
        "!hisat2_extract_splice_sites.py"
      ],
      "metadata": {
        "id": "eUI-P5YTmOpO"
      },
      "execution_count": null,
      "outputs": []
    },
    {
      "cell_type": "markdown",
      "source": [
        "## 3) последовательность 19 хромосомы мыши и её аннотацию в формате gtf (ensembl.org→Mouse→Download FASTA/GTF → скачать)"
      ],
      "metadata": {
        "id": "WXMJRCqzN-SV"
      }
    },
    {
      "cell_type": "code",
      "source": [
        "%cd index"
      ],
      "metadata": {
        "colab": {
          "base_uri": "https://localhost:8080/"
        },
        "id": "SPd3xRz3mrk3",
        "outputId": "9eb92eb8-0b2f-4efe-b855-8131df731220"
      },
      "execution_count": null,
      "outputs": [
        {
          "output_type": "stream",
          "name": "stdout",
          "text": [
            "/content/index\n"
          ]
        }
      ]
    },
    {
      "cell_type": "code",
      "source": [
        "# 19 хромосома\n",
        "!wget http://ftp.ensembl.org/pub/release-107/fasta/mus_musculus/dna/Mus_musculus.GRCm39.dna.chromosome.19.fa.gz"
      ],
      "metadata": {
        "colab": {
          "base_uri": "https://localhost:8080/"
        },
        "id": "BEFbIBsc-YCj",
        "outputId": "5de399d3-bc1d-486f-84b5-2f299240227b"
      },
      "execution_count": null,
      "outputs": [
        {
          "output_type": "stream",
          "name": "stdout",
          "text": [
            "--2022-12-22 17:38:34--  http://ftp.ensembl.org/pub/release-107/fasta/mus_musculus/dna/Mus_musculus.GRCm39.dna.chromosome.19.fa.gz\n",
            "Resolving ftp.ensembl.org (ftp.ensembl.org)... 193.62.193.139\n",
            "Connecting to ftp.ensembl.org (ftp.ensembl.org)|193.62.193.139|:80... connected.\n",
            "HTTP request sent, awaiting response... 200 OK\n",
            "Length: 17732438 (17M) [application/x-gzip]\n",
            "Saving to: ‘Mus_musculus.GRCm39.dna.chromosome.19.fa.gz’\n",
            "\n",
            "Mus_musculus.GRCm39 100%[===================>]  16.91M   629KB/s    in 28s     \n",
            "\n",
            "2022-12-22 17:39:02 (628 KB/s) - ‘Mus_musculus.GRCm39.dna.chromosome.19.fa.gz’ saved [17732438/17732438]\n",
            "\n"
          ]
        }
      ]
    },
    {
      "cell_type": "code",
      "source": [
        "# Весь геном\n",
        "!wget http://ftp.ensembl.org/pub/release-107/gtf/mus_musculus/Mus_musculus.GRCm39.107.chr.gtf.gz"
      ],
      "metadata": {
        "colab": {
          "base_uri": "https://localhost:8080/"
        },
        "id": "crygadOnmtmF",
        "outputId": "f5fe72ec-10ab-455d-de30-c732da7e2c34"
      },
      "execution_count": null,
      "outputs": [
        {
          "output_type": "stream",
          "name": "stdout",
          "text": [
            "--2022-12-22 17:39:02--  http://ftp.ensembl.org/pub/release-107/gtf/mus_musculus/Mus_musculus.GRCm39.107.chr.gtf.gz\n",
            "Resolving ftp.ensembl.org (ftp.ensembl.org)... 193.62.193.139\n",
            "Connecting to ftp.ensembl.org (ftp.ensembl.org)|193.62.193.139|:80... connected.\n",
            "HTTP request sent, awaiting response... 200 OK\n",
            "Length: 31854002 (30M) [application/x-gzip]\n",
            "Saving to: ‘Mus_musculus.GRCm39.107.chr.gtf.gz’\n",
            "\n",
            "Mus_musculus.GRCm39 100%[===================>]  30.38M   625KB/s    in 50s     \n",
            "\n",
            "2022-12-22 17:39:53 (623 KB/s) - ‘Mus_musculus.GRCm39.107.chr.gtf.gz’ saved [31854002/31854002]\n",
            "\n"
          ]
        }
      ]
    },
    {
      "cell_type": "code",
      "source": [
        "# Разархивируем\n",
        "!gunzip ./*\n",
        "!ls -lh"
      ],
      "metadata": {
        "id": "n5_5HVgQm-YK",
        "colab": {
          "base_uri": "https://localhost:8080/"
        },
        "outputId": "ba8bc4ec-1600-4328-eeca-295d9a41a3ba"
      },
      "execution_count": null,
      "outputs": [
        {
          "output_type": "stream",
          "name": "stdout",
          "text": [
            "total 891M\n",
            "-rw-r--r-- 1 root root 831M Jun  4  2022 Mus_musculus.GRCm39.107.chr.gtf\n",
            "-rw-r--r-- 1 root root  60M Jun  4  2022 Mus_musculus.GRCm39.dna.chromosome.19.fa\n"
          ]
        }
      ]
    },
    {
      "cell_type": "code",
      "source": [
        "!head Mus_musculus.GRCm39.107.chr.gtf"
      ],
      "metadata": {
        "colab": {
          "base_uri": "https://localhost:8080/"
        },
        "id": "Y7adLoGinZq1",
        "outputId": "244d69f8-27fe-419c-cadf-356a34019ecc"
      },
      "execution_count": null,
      "outputs": [
        {
          "output_type": "stream",
          "name": "stdout",
          "text": [
            "#!genome-build GRCm39\n",
            "#!genome-version GRCm39\n",
            "#!genome-date 2020-06\n",
            "#!genome-build-accession GCA_000001635.9\n",
            "#!genebuild-last-updated 2022-04\n",
            "1\thavana\tgene\t150956201\t150958296\t.\t+\t.\tgene_id \"ENSMUSG00000102628\"; gene_version \"2\"; gene_name \"Gm37671\"; gene_source \"havana\"; gene_biotype \"TEC\";\n",
            "1\thavana\ttranscript\t150956201\t150958296\t.\t+\t.\tgene_id \"ENSMUSG00000102628\"; gene_version \"2\"; transcript_id \"ENSMUST00000193198\"; transcript_version \"2\"; gene_name \"Gm37671\"; gene_source \"havana\"; gene_biotype \"TEC\"; transcript_name \"Gm37671-201\"; transcript_source \"havana\"; transcript_biotype \"TEC\"; tag \"basic\"; transcript_support_level \"NA (assigned to previous version 1)\";\n",
            "1\thavana\texon\t150956201\t150958296\t.\t+\t.\tgene_id \"ENSMUSG00000102628\"; gene_version \"2\"; transcript_id \"ENSMUST00000193198\"; transcript_version \"2\"; exon_number \"1\"; gene_name \"Gm37671\"; gene_source \"havana\"; gene_biotype \"TEC\"; transcript_name \"Gm37671-201\"; transcript_source \"havana\"; transcript_biotype \"TEC\"; exon_id \"ENSMUSE00001342333\"; exon_version \"2\"; tag \"basic\"; transcript_support_level \"NA (assigned to previous version 1)\";\n",
            "1\thavana\tgene\t150983666\t150984611\t.\t+\t.\tgene_id \"ENSMUSG00000100595\"; gene_version \"2\"; gene_name \"Gm19087\"; gene_source \"havana\"; gene_biotype \"processed_pseudogene\";\n",
            "1\thavana\ttranscript\t150983666\t150984611\t.\t+\t.\tgene_id \"ENSMUSG00000100595\"; gene_version \"2\"; transcript_id \"ENSMUST00000191430\"; transcript_version \"2\"; gene_name \"Gm19087\"; gene_source \"havana\"; gene_biotype \"processed_pseudogene\"; transcript_name \"Gm19087-201\"; transcript_source \"havana\"; transcript_biotype \"processed_pseudogene\"; tag \"basic\"; transcript_support_level \"NA (assigned to previous version 1)\";\n"
          ]
        }
      ]
    },
    {
      "cell_type": "markdown",
      "source": [
        "## 4) только 19ая хромосома"
      ],
      "metadata": {
        "id": "lPecCtTm7ZEh"
      }
    },
    {
      "cell_type": "code",
      "source": [
        "!grep -P '^19\\t' Mus_musculus.GRCm39.107.chr.gtf > Mus_musculus.GRCm39.107.chr19.gtf"
      ],
      "metadata": {
        "id": "uXONyBW6nflW"
      },
      "execution_count": null,
      "outputs": []
    },
    {
      "cell_type": "markdown",
      "source": [
        "## 5) индекс по последовательности 19ой хромосомы (без координат сайтов)"
      ],
      "metadata": {
        "id": "WKVMi8O_7koU"
      }
    },
    {
      "cell_type": "code",
      "source": [
        "# Без координат сайтов\n",
        "!hisat2-build Mus_musculus.GRCm39.dna.chromosome.19.fa Mus_musculus.GRCm39.dna.chromosome.19.no_ss"
      ],
      "metadata": {
        "colab": {
          "base_uri": "https://localhost:8080/"
        },
        "id": "AZysN6Z2z5hL",
        "outputId": "7e4384c3-a52a-4353-d3b9-7b036c3ab2b6"
      },
      "execution_count": null,
      "outputs": [
        {
          "output_type": "stream",
          "name": "stdout",
          "text": [
            "Settings:\n",
            "  Output files: \"Mus_musculus.GRCm39.dna.chromosome.19.no_ss.*.ht2\"\n",
            "  Line rate: 6 (line is 64 bytes)\n",
            "  Lines per side: 1 (side is 64 bytes)\n",
            "  Offset rate: 4 (one in 16)\n",
            "  FTable chars: 10\n",
            "  Strings: unpacked\n",
            "  Local offset rate: 3 (one in 8)\n",
            "  Local fTable chars: 6\n",
            "  Local sequence length: 57344\n",
            "  Local sequence overlap between two consecutive indexes: 1024\n",
            "  Endianness: little\n",
            "  Actual local endianness: little\n",
            "  Sanity checking: disabled\n",
            "  Assertions: disabled\n",
            "  Random seed: 0\n",
            "  Sizeofs: void*:8, int:4, long:8, size_t:8\n",
            "Input files DNA, FASTA:\n",
            "  Mus_musculus.GRCm39.dna.chromosome.19.fa\n",
            "Reading reference sizes\n",
            "  Time reading reference sizes: 00:00:01\n",
            "Calculating joined length\n",
            "Writing header\n",
            "Reserving space for joined string\n",
            "Joining reference sequences\n",
            "  Time to join reference sequences: 00:00:00\n",
            "  Time to read SNPs and splice sites: 00:00:00\n",
            "Using parameters --bmax 10916251 --dcv 1024\n",
            "  Doing ahead-of-time memory usage test\n",
            "  Passed!  Constructing with these parameters: --bmax 10916251 --dcv 1024\n",
            "Constructing suffix-array element generator\n",
            "Building DifferenceCoverSample\n",
            "  Building sPrime\n",
            "  Building sPrimeOrder\n",
            "  V-Sorting samples\n",
            "  V-Sorting samples time: 00:00:01\n",
            "  Allocating rank array\n",
            "  Ranking v-sort output\n",
            "  Ranking v-sort output time: 00:00:00\n",
            "  Invoking Larsson-Sadakane on ranks\n",
            "  Invoking Larsson-Sadakane on ranks time: 00:00:01\n",
            "  Sanity-checking and returning\n",
            "Building samples\n",
            "Reserving space for 12 sample suffixes\n",
            "Generating random suffixes\n",
            "QSorting 12 sample offsets, eliminating duplicates\n",
            "QSorting sample offsets, eliminating duplicates time: 00:00:00\n",
            "Multikey QSorting 12 samples\n",
            "  (Using difference cover)\n",
            "  Multikey QSorting samples time: 00:00:00\n",
            "Calculating bucket sizes\n",
            "Splitting and merging\n",
            "  Splitting and merging time: 00:00:00\n",
            "Avg bucket size: 8.31714e+06 (target: 10916250)\n",
            "Converting suffix-array elements to index image\n",
            "Allocating ftab, absorbFtab\n",
            "Entering GFM loop\n",
            "Getting block 1 of 7\n",
            "  Reserving size (10916251) for bucket 1\n",
            "  Calculating Z arrays for bucket 1\n",
            "  Entering block accumulator loop for bucket 1:\n",
            "  bucket 1: 10%\n",
            "  bucket 1: 20%\n",
            "  bucket 1: 30%\n",
            "  bucket 1: 40%\n",
            "  bucket 1: 50%\n",
            "  bucket 1: 60%\n",
            "  bucket 1: 70%\n",
            "  bucket 1: 80%\n",
            "  bucket 1: 90%\n",
            "  bucket 1: 100%\n",
            "  Sorting block of length 8286876 for bucket 1\n",
            "  (Using difference cover)\n",
            "  Sorting block time: 00:00:05\n",
            "Returning block of 8286877 for bucket 1\n",
            "Getting block 2 of 7\n",
            "  Reserving size (10916251) for bucket 2\n",
            "  Calculating Z arrays for bucket 2\n",
            "  Entering block accumulator loop for bucket 2:\n",
            "  bucket 2: 10%\n",
            "  bucket 2: 20%\n",
            "  bucket 2: 30%\n",
            "  bucket 2: 40%\n",
            "  bucket 2: 50%\n",
            "  bucket 2: 60%\n",
            "  bucket 2: 70%\n",
            "  bucket 2: 80%\n",
            "  bucket 2: 90%\n",
            "  bucket 2: 100%\n",
            "  Sorting block of length 10857377 for bucket 2\n",
            "  (Using difference cover)\n",
            "  Sorting block time: 00:00:06\n",
            "Returning block of 10857378 for bucket 2\n",
            "Getting block 3 of 7\n",
            "  Reserving size (10916251) for bucket 3\n",
            "  Calculating Z arrays for bucket 3\n",
            "  Entering block accumulator loop for bucket 3:\n",
            "  bucket 3: 10%\n",
            "  bucket 3: 20%\n",
            "  bucket 3: 30%\n",
            "  bucket 3: 40%\n",
            "  bucket 3: 50%\n",
            "  bucket 3: 60%\n",
            "  bucket 3: 70%\n",
            "  bucket 3: 80%\n",
            "  bucket 3: 90%\n",
            "  bucket 3: 100%\n",
            "  Sorting block of length 10554111 for bucket 3\n",
            "  (Using difference cover)\n",
            "  Sorting block time: 00:00:05\n",
            "Returning block of 10554112 for bucket 3\n",
            "Getting block 4 of 7\n",
            "  Reserving size (10916251) for bucket 4\n",
            "  Calculating Z arrays for bucket 4\n",
            "  Entering block accumulator loop for bucket 4:\n",
            "  bucket 4: 10%\n",
            "  bucket 4: 20%\n",
            "  bucket 4: 30%\n",
            "  bucket 4: 40%\n",
            "  bucket 4: 50%\n",
            "  bucket 4: 60%\n",
            "  bucket 4: 70%\n",
            "  bucket 4: 80%\n",
            "  bucket 4: 90%\n",
            "  bucket 4: 100%\n",
            "  Sorting block of length 4600643 for bucket 4\n",
            "  (Using difference cover)\n",
            "  Sorting block time: 00:00:03\n",
            "Returning block of 4600644 for bucket 4\n",
            "Getting block 5 of 7\n",
            "  Reserving size (10916251) for bucket 5\n",
            "  Calculating Z arrays for bucket 5\n",
            "  Entering block accumulator loop for bucket 5:\n",
            "  bucket 5: 10%\n",
            "  bucket 5: 20%\n",
            "  bucket 5: 30%\n",
            "  bucket 5: 40%\n",
            "  bucket 5: 50%\n",
            "  bucket 5: 60%\n",
            "  bucket 5: 70%\n",
            "  bucket 5: 80%\n",
            "  bucket 5: 90%\n",
            "  bucket 5: 100%\n",
            "  Sorting block of length 7464214 for bucket 5\n",
            "  (Using difference cover)\n",
            "  Sorting block time: 00:00:04\n",
            "Returning block of 7464215 for bucket 5\n",
            "Getting block 6 of 7\n",
            "  Reserving size (10916251) for bucket 6\n",
            "  Calculating Z arrays for bucket 6\n",
            "  Entering block accumulator loop for bucket 6:\n",
            "  bucket 6: 10%\n",
            "  bucket 6: 20%\n",
            "  bucket 6: 30%\n",
            "  bucket 6: 40%\n",
            "  bucket 6: 50%\n",
            "  bucket 6: 60%\n",
            "  bucket 6: 70%\n",
            "  bucket 6: 80%\n",
            "  bucket 6: 90%\n",
            "  bucket 6: 100%\n",
            "  Sorting block of length 8905610 for bucket 6\n",
            "  (Using difference cover)\n",
            "  Sorting block time: 00:00:05\n",
            "Returning block of 8905611 for bucket 6\n",
            "Getting block 7 of 7\n",
            "  Reserving size (10916251) for bucket 7\n",
            "  Calculating Z arrays for bucket 7\n",
            "  Entering block accumulator loop for bucket 7:\n",
            "  bucket 7: 10%\n",
            "  bucket 7: 20%\n",
            "  bucket 7: 30%\n",
            "  bucket 7: 40%\n",
            "  bucket 7: 50%\n",
            "  bucket 7: 60%\n",
            "  bucket 7: 70%\n",
            "  bucket 7: 80%\n",
            "  bucket 7: 90%\n",
            "  bucket 7: 100%\n",
            "  Sorting block of length 7551167 for bucket 7\n",
            "  (Using difference cover)\n",
            "  Sorting block time: 00:00:04\n",
            "Returning block of 7551168 for bucket 7\n",
            "Exited GFM loop\n",
            "fchr[A]: 0\n",
            "fchr[C]: 16736386\n",
            "fchr[G]: 29189141\n",
            "fchr[T]: 41613507\n",
            "fchr[$]: 58220004\n",
            "Exiting GFM::buildToDisk()\n",
            "Returning from initFromVector\n",
            "Wrote 23601273 bytes to primary GFM file: Mus_musculus.GRCm39.dna.chromosome.19.no_ss.1.ht2\n",
            "Wrote 14555008 bytes to secondary GFM file: Mus_musculus.GRCm39.dna.chromosome.19.no_ss.2.ht2\n",
            "Re-opening _in1 and _in2 as input streams\n",
            "Returning from GFM constructor\n",
            "Returning from initFromVector\n",
            "Wrote 25557013 bytes to primary GFM file: Mus_musculus.GRCm39.dna.chromosome.19.no_ss.5.ht2\n",
            "Wrote 14821520 bytes to secondary GFM file: Mus_musculus.GRCm39.dna.chromosome.19.no_ss.6.ht2\n",
            "Re-opening _in5 and _in5 as input streams\n",
            "Returning from HGFM constructor\n",
            "Headers:\n",
            "    len: 58220004\n",
            "    gbwtLen: 58220005\n",
            "    nodes: 58220005\n",
            "    sz: 14555001\n",
            "    gbwtSz: 14555002\n",
            "    lineRate: 6\n",
            "    offRate: 4\n",
            "    offMask: 0xfffffff0\n",
            "    ftabChars: 10\n",
            "    eftabLen: 0\n",
            "    eftabSz: 0\n",
            "    ftabLen: 1048577\n",
            "    ftabSz: 4194308\n",
            "    offsLen: 3638751\n",
            "    offsSz: 14555004\n",
            "    lineSz: 64\n",
            "    sideSz: 64\n",
            "    sideGbwtSz: 48\n",
            "    sideGbwtLen: 192\n",
            "    numSides: 303230\n",
            "    numLines: 303230\n",
            "    gbwtTotLen: 19406720\n",
            "    gbwtTotSz: 19406720\n",
            "    reverse: 0\n",
            "    linearFM: Yes\n",
            "Total time for call to driver() for forward index: 00:01:05\n"
          ]
        }
      ]
    },
    {
      "cell_type": "markdown",
      "source": [
        "## 6) Картирование fq файлов на 19ую хромосому, не допуская обрезания ридов и сообщив hisat2 координаты сайтов сплайсинга"
      ],
      "metadata": {
        "id": "uuJe18Oi74sm"
      }
    },
    {
      "cell_type": "code",
      "source": [
        "# Достаем координаты сайтов сплайсинга и экзонов\n",
        "!hisat2_extract_splice_sites.py Mus_musculus.GRCm39.107.chr19.gtf > Mus_musculus.GRCm39.107.chr19.ss\n",
        "!hisat2_extract_exons.py Mus_musculus.GRCm39.107.chr19.gtf > Mus_musculus.GRCm39.107.chr19.exons\n",
        "!ls -lh"
      ],
      "metadata": {
        "colab": {
          "base_uri": "https://localhost:8080/"
        },
        "id": "5DUMYSA8oKFM",
        "outputId": "3a360492-dc38-4aab-a390-96e3ecc139d8"
      },
      "execution_count": null,
      "outputs": [
        {
          "output_type": "stream",
          "name": "stdout",
          "text": [
            "total 1007M\n",
            "-rw-r--r-- 1 root root 188K Dec 22 17:41 Mus_musculus.GRCm39.107.chr19.exons\n",
            "-rw-r--r-- 1 root root  27M Dec 22 17:40 Mus_musculus.GRCm39.107.chr19.gtf\n",
            "-rw-r--r-- 1 root root 206K Dec 22 17:41 Mus_musculus.GRCm39.107.chr19.ss\n",
            "-rw-r--r-- 1 root root 831M Jun  4  2022 Mus_musculus.GRCm39.107.chr.gtf\n",
            "-rw-r--r-- 1 root root  60M Jun  4  2022 Mus_musculus.GRCm39.dna.chromosome.19.fa\n",
            "-rw-r--r-- 1 root root  23M Dec 22 17:40 Mus_musculus.GRCm39.dna.chromosome.19.no_ss.1.ht2\n",
            "-rw-r--r-- 1 root root  14M Dec 22 17:40 Mus_musculus.GRCm39.dna.chromosome.19.no_ss.2.ht2\n",
            "-rw-r--r-- 1 root root   35 Dec 22 17:40 Mus_musculus.GRCm39.dna.chromosome.19.no_ss.3.ht2\n",
            "-rw-r--r-- 1 root root  14M Dec 22 17:40 Mus_musculus.GRCm39.dna.chromosome.19.no_ss.4.ht2\n",
            "-rw-r--r-- 1 root root  25M Dec 22 17:41 Mus_musculus.GRCm39.dna.chromosome.19.no_ss.5.ht2\n",
            "-rw-r--r-- 1 root root  15M Dec 22 17:41 Mus_musculus.GRCm39.dna.chromosome.19.no_ss.6.ht2\n",
            "-rw-r--r-- 1 root root   12 Dec 22 17:40 Mus_musculus.GRCm39.dna.chromosome.19.no_ss.7.ht2\n",
            "-rw-r--r-- 1 root root    8 Dec 22 17:40 Mus_musculus.GRCm39.dna.chromosome.19.no_ss.8.ht2\n"
          ]
        }
      ]
    },
    {
      "cell_type": "code",
      "source": [
        "# Экзоны\n",
        "!head Mus_musculus.GRCm39.107.chr19.exons"
      ],
      "metadata": {
        "colab": {
          "base_uri": "https://localhost:8080/"
        },
        "id": "z7al8yVKoHK_",
        "outputId": "2a5837f3-e84a-4672-d442-da2e799e8cf1"
      },
      "execution_count": null,
      "outputs": [
        {
          "output_type": "stream",
          "name": "stdout",
          "text": [
            "19\t3103070\t3103277\t-\n",
            "19\t3109879\t3109990\t-\n",
            "19\t3115710\t3118148\t-\n",
            "19\t3119366\t3119439\t-\n",
            "19\t3122687\t3122952\t-\n",
            "19\t3125713\t3125884\t-\n",
            "19\t3184644\t3184958\t+\n",
            "19\t3186983\t3187089\t-\n",
            "19\t3192759\t3193064\t+\n",
            "19\t3195867\t3196264\t-\n"
          ]
        }
      ]
    },
    {
      "cell_type": "code",
      "source": [
        "# Сайты сплайсинга\n",
        "!head Mus_musculus.GRCm39.107.chr19.ss"
      ],
      "metadata": {
        "colab": {
          "base_uri": "https://localhost:8080/"
        },
        "id": "GQkHm6u0oyHn",
        "outputId": "d4914298-2f32-44a8-a1b8-7dc647dd0d56"
      },
      "execution_count": null,
      "outputs": [
        {
          "output_type": "stream",
          "name": "stdout",
          "text": [
            "19\t3103277\t3109879\t-\n",
            "19\t3109990\t3119366\t-\n",
            "19\t3118148\t3119366\t-\n",
            "19\t3119439\t3122687\t-\n",
            "19\t3122952\t3125713\t-\n",
            "19\t3122952\t3246944\t-\n",
            "19\t3125884\t3246944\t-\n",
            "19\t3196264\t3197632\t-\n",
            "19\t3196264\t3203930\t-\n",
            "19\t3196264\t3209940\t-\n"
          ]
        }
      ]
    },
    {
      "cell_type": "code",
      "source": [
        "# Индексируем с координатами сайтов (либо можно было подать их hisat2 с помощью known splice sites, но уже сделала так)\n",
        "#!hisat2-build --ss Mus_musculus.GRCm39.107.chr19.ss --exon Mus_musculus.GRCm39.107.chr19.exons Mus_musculus.GRCm39.dna.chromosome.19.fa Mus_musculus.GRCm39.dna.chromosome.19"
      ],
      "metadata": {
        "id": "pKjXY3CrwUfV"
      },
      "execution_count": null,
      "outputs": []
    },
    {
      "cell_type": "code",
      "source": [
        "%cd ../\n",
        "!mkdir bams\n",
        "%cd bams"
      ],
      "metadata": {
        "colab": {
          "base_uri": "https://localhost:8080/"
        },
        "id": "s1K0fRvT0IMm",
        "outputId": "222c28e7-0ae2-480a-965c-9dafc470ac82"
      },
      "execution_count": null,
      "outputs": [
        {
          "output_type": "stream",
          "name": "stdout",
          "text": [
            "/content\n",
            "/content/bams\n"
          ]
        }
      ]
    },
    {
      "cell_type": "code",
      "source": [
        "my_sample = 'C17.5'\n",
        "index = '/content/index/Mus_musculus.GRCm39.dna.chromosome.19.no_ss'\n",
        "path = '/content/drive/MyDrive/NGS/01.rna'\n",
        "ss = '/content/index/Mus_musculus.GRCm39.107.chr19.ss'"
      ],
      "metadata": {
        "id": "ZMxsa0Fqro1S"
      },
      "execution_count": null,
      "outputs": []
    },
    {
      "cell_type": "code",
      "source": [
        "!echo $path"
      ],
      "metadata": {
        "colab": {
          "base_uri": "https://localhost:8080/"
        },
        "id": "_qRpW4fPstL2",
        "outputId": "704ebbe1-0af1-4da4-d29f-c4633653f4a1"
      },
      "execution_count": null,
      "outputs": [
        {
          "output_type": "stream",
          "name": "stdout",
          "text": [
            "/content/drive/MyDrive/NGS/01.rna\n"
          ]
        }
      ]
    },
    {
      "cell_type": "code",
      "source": [
        "# Картируем все\n",
        "my_samples = ['B14.5', 'B15.5', 'B17.5', 'B20', 'B34',\n",
        "              'C14.5', 'C15.5', 'C17.5', 'C20', 'C34']\n",
        "for sample in my_samples:\n",
        "  !hisat2 --summary-file $sample\\.log --no-softclip --no-unal --known-splicesite-infile $ss -x $index -U $path/$sample\\.fq | samtools view -Sb - > $sample\\.bam\n",
        "\n",
        "# % картирования почти для всех образцов более 90, с ними все в порядке. Есть 3 обрзазца с более низким %: B15.5, B17.5, C15.5 (~88%).\n",
        "# Похоже, можно было бы использовать softclip, но в задания явно написано \"без обрезания\""
      ],
      "metadata": {
        "colab": {
          "base_uri": "https://localhost:8080/"
        },
        "id": "hyr6RQPO2xQx",
        "outputId": "d6817bb6-2bb0-4c06-f887-765ab3925082"
      },
      "execution_count": null,
      "outputs": [
        {
          "output_type": "stream",
          "name": "stdout",
          "text": [
            "599672 reads; of these:\n",
            "  599672 (100.00%) were unpaired; of these:\n",
            "    46932 (7.83%) aligned 0 times\n",
            "    540477 (90.13%) aligned exactly 1 time\n",
            "    12263 (2.04%) aligned >1 times\n",
            "92.17% overall alignment rate\n",
            "599345 reads; of these:\n",
            "  599345 (100.00%) were unpaired; of these:\n",
            "    70738 (11.80%) aligned 0 times\n",
            "    517132 (86.28%) aligned exactly 1 time\n",
            "    11475 (1.91%) aligned >1 times\n",
            "88.20% overall alignment rate\n",
            "600006 reads; of these:\n",
            "  600006 (100.00%) were unpaired; of these:\n",
            "    74975 (12.50%) aligned 0 times\n",
            "    515423 (85.90%) aligned exactly 1 time\n",
            "    9608 (1.60%) aligned >1 times\n",
            "87.50% overall alignment rate\n",
            "599777 reads; of these:\n",
            "  599777 (100.00%) were unpaired; of these:\n",
            "    51084 (8.52%) aligned 0 times\n",
            "    538301 (89.75%) aligned exactly 1 time\n",
            "    10392 (1.73%) aligned >1 times\n",
            "91.48% overall alignment rate\n",
            "599683 reads; of these:\n",
            "  599683 (100.00%) were unpaired; of these:\n",
            "    51757 (8.63%) aligned 0 times\n",
            "    539543 (89.97%) aligned exactly 1 time\n",
            "    8383 (1.40%) aligned >1 times\n",
            "91.37% overall alignment rate\n",
            "599461 reads; of these:\n",
            "  599461 (100.00%) were unpaired; of these:\n",
            "    49662 (8.28%) aligned 0 times\n",
            "    538560 (89.84%) aligned exactly 1 time\n",
            "    11239 (1.87%) aligned >1 times\n",
            "91.72% overall alignment rate\n",
            "600324 reads; of these:\n",
            "  600324 (100.00%) were unpaired; of these:\n",
            "    75984 (12.66%) aligned 0 times\n",
            "    514063 (85.63%) aligned exactly 1 time\n",
            "    10277 (1.71%) aligned >1 times\n",
            "87.34% overall alignment rate\n",
            "600268 reads; of these:\n",
            "  600268 (100.00%) were unpaired; of these:\n",
            "    59031 (9.83%) aligned 0 times\n",
            "    530937 (88.45%) aligned exactly 1 time\n",
            "    10300 (1.72%) aligned >1 times\n",
            "90.17% overall alignment rate\n",
            "600133 reads; of these:\n",
            "  600133 (100.00%) were unpaired; of these:\n",
            "    44719 (7.45%) aligned 0 times\n",
            "    545741 (90.94%) aligned exactly 1 time\n",
            "    9673 (1.61%) aligned >1 times\n",
            "92.55% overall alignment rate\n",
            "599414 reads; of these:\n",
            "  599414 (100.00%) were unpaired; of these:\n",
            "    43178 (7.20%) aligned 0 times\n",
            "    546906 (91.24%) aligned exactly 1 time\n",
            "    9330 (1.56%) aligned >1 times\n",
            "92.80% overall alignment rate\n"
          ]
        }
      ]
    },
    {
      "cell_type": "code",
      "source": [
        "!ls -lh"
      ],
      "metadata": {
        "colab": {
          "base_uri": "https://localhost:8080/"
        },
        "id": "GIzKKJpbsneI",
        "outputId": "c5c45f40-627f-440a-e2c8-ed823855723b"
      },
      "execution_count": null,
      "outputs": [
        {
          "output_type": "stream",
          "name": "stdout",
          "text": [
            "total 523M\n",
            "-rw-r--r-- 1 root root 51M Dec 22 17:43 B14.5.bam\n",
            "-rw-r--r-- 1 root root 210 Dec 22 17:43 B14.5.log\n",
            "-rw-r--r-- 1 root root 53M Dec 22 17:43 B15.5.bam\n",
            "-rw-r--r-- 1 root root 211 Dec 22 17:43 B15.5.log\n",
            "-rw-r--r-- 1 root root 53M Dec 22 17:44 B17.5.bam\n",
            "-rw-r--r-- 1 root root 210 Dec 22 17:44 B17.5.log\n",
            "-rw-r--r-- 1 root root 53M Dec 22 17:44 B20.bam\n",
            "-rw-r--r-- 1 root root 210 Dec 22 17:44 B20.log\n",
            "-rw-r--r-- 1 root root 52M Dec 22 17:45 B34.bam\n",
            "-rw-r--r-- 1 root root 209 Dec 22 17:45 B34.log\n",
            "-rw-r--r-- 1 root root 56M Dec 22 17:45 C14.5.bam\n",
            "-rw-r--r-- 1 root root 210 Dec 22 17:45 C14.5.log\n",
            "-rw-r--r-- 1 root root 53M Dec 22 17:46 C15.5.bam\n",
            "-rw-r--r-- 1 root root 211 Dec 22 17:46 C15.5.log\n",
            "-rw-r--r-- 1 root root 52M Dec 22 17:46 C17.5.bam\n",
            "-rw-r--r-- 1 root root 210 Dec 22 17:46 C17.5.log\n",
            "-rw-r--r-- 1 root root 52M Dec 22 17:47 C20.bam\n",
            "-rw-r--r-- 1 root root 209 Dec 22 17:47 C20.log\n",
            "-rw-r--r-- 1 root root 54M Dec 22 17:47 C34.bam\n",
            "-rw-r--r-- 1 root root 209 Dec 22 17:47 C34.log\n"
          ]
        }
      ]
    },
    {
      "cell_type": "markdown",
      "source": [
        "## 7) один образец"
      ],
      "metadata": {
        "id": "QRWFedg68nYA"
      }
    },
    {
      "cell_type": "code",
      "source": [
        "my_sample"
      ],
      "metadata": {
        "colab": {
          "base_uri": "https://localhost:8080/",
          "height": 35
        },
        "id": "LgRiGS-v706D",
        "outputId": "31861ed5-71be-4a09-eda2-d3820daaba0b"
      },
      "execution_count": null,
      "outputs": [
        {
          "output_type": "execute_result",
          "data": {
            "text/plain": [
              "'C17.5'"
            ],
            "application/vnd.google.colaboratory.intrinsic+json": {
              "type": "string"
            }
          },
          "metadata": {},
          "execution_count": 30
        }
      ]
    },
    {
      "cell_type": "code",
      "source": [
        "# Делаем индексацию для использования samtools\n",
        "!samtools sort -o $my_sample\\.s.bam $my_sample\\.bam\n",
        "!mv $my_sample\\.s.bam $my_sample\\.bam\n",
        "!samtools index $my_sample\\.bam\n",
        "#!samtools sort -o $my_sample\\.s.bam $my_sample\\.bam"
      ],
      "metadata": {
        "id": "ivDmPjo5Bvha"
      },
      "execution_count": null,
      "outputs": []
    },
    {
      "cell_type": "code",
      "source": [
        "!samtools view $my_sample\\.bam 19:3324440-3329850 |wc -l #Сколько ридов картируется в регион 19:3324440-3329850 в этом образце"
      ],
      "metadata": {
        "colab": {
          "base_uri": "https://localhost:8080/"
        },
        "id": "JKDSVURsn-Hl",
        "outputId": "482b0007-01ab-4c1f-95e4-aa72afdb9490"
      },
      "execution_count": null,
      "outputs": [
        {
          "output_type": "execute_result",
          "data": {
            "text/plain": [
              "['42']"
            ]
          },
          "metadata": {},
          "execution_count": 39
        }
      ]
    },
    {
      "cell_type": "code",
      "source": [
        "!samtools view $my_sample\\.bam 19:3324440-3329850 -bq 1 | wc -l #з них картируются только в одно место генома"
      ],
      "metadata": {
        "colab": {
          "base_uri": "https://localhost:8080/"
        },
        "id": "szhYNgLNFPPY",
        "outputId": "5e9f1dfe-4f7e-4b36-bbcf-0299bffd554f"
      },
      "execution_count": null,
      "outputs": [
        {
          "output_type": "stream",
          "name": "stdout",
          "text": [
            "20\n"
          ]
        }
      ]
    },
    {
      "cell_type": "code",
      "source": [
        "# Количество ридов, которые картировались без замен\n",
        "!samtools view $my_sample\\.bam 19:3324440-3329850 | grep \"NM:i:0\" | wc -l\n"
      ],
      "metadata": {
        "colab": {
          "base_uri": "https://localhost:8080/"
        },
        "id": "Feo5t8RGF3-5",
        "outputId": "9cc1c8ba-0b10-43f5-9e62-e8af836fd007"
      },
      "execution_count": null,
      "outputs": [
        {
          "output_type": "stream",
          "name": "stdout",
          "text": [
            "33\n"
          ]
        }
      ]
    },
    {
      "cell_type": "code",
      "source": [
        "# С заменами\n",
        "for j in range(1, 10):\n",
        "  q = !samtools view $my_sample\\.bam 19:3324440-3329850 | grep \"NM:i:$j\" | wc -l\n",
        "  print(j, 'замен: ', q)\n",
        "# хватит интервала до 10, так как итог = 44"
      ],
      "metadata": {
        "colab": {
          "base_uri": "https://localhost:8080/"
        },
        "id": "umC46hQhG2Z0",
        "outputId": "aeb558c3-99b1-479d-db42-ebad137d5874"
      },
      "execution_count": null,
      "outputs": [
        {
          "output_type": "stream",
          "name": "stdout",
          "text": [
            "1 замен:  ['5']\n",
            "2 замен:  ['3']\n",
            "3 замен:  ['0']\n",
            "4 замен:  ['0']\n",
            "5 замен:  ['0']\n",
            "6 замен:  ['0']\n",
            "7 замен:  ['0']\n",
            "8 замен:  ['0']\n",
            "9 замен:  ['1']\n"
          ]
        }
      ]
    },
    {
      "cell_type": "markdown",
      "source": [
        "##8) Сколько ридов картировалось на экзон-экзонные границы? Перечислите координаты всех интронов в данном интервале подтверждённых хотя бы одним ридом в формате: chr:from-to coverage"
      ],
      "metadata": {
        "id": "VRqi_UJ0-4aV"
      }
    },
    {
      "cell_type": "code",
      "source": [
        "# На экзон-экзонные границы\n",
        "!samtools view $my_sample\\.bam 19:3324440-3329850 |  awk '($6 ~ /N/)' | wc -l"
      ],
      "metadata": {
        "id": "VoTL6J5dueVS",
        "colab": {
          "base_uri": "https://localhost:8080/"
        },
        "outputId": "d77cb0ce-2688-43d2-afcd-20e324bdb3f5"
      },
      "execution_count": null,
      "outputs": [
        {
          "output_type": "execute_result",
          "data": {
            "text/plain": [
              "['28']"
            ]
          },
          "metadata": {},
          "execution_count": 43
        }
      ]
    },
    {
      "cell_type": "code",
      "source": [
        "# Координаты интронов, подтвержденные хотя бы 1 ридом\n",
        "%cd /content\n",
        "!bedtools coverage -counts -abam bams/$my_sample\\.bam -b index/Mus_musculus.GRCm39.107.chr19.ss | grep -v \"NH:i:0\" > index/coverage.txt\n",
        "!head index/coverage.txt"
      ],
      "metadata": {
        "id": "OfQmDp8U0YG8",
        "colab": {
          "base_uri": "https://localhost:8080/"
        },
        "outputId": "f2e8dcc8-1227-43fb-fe17-66bfeeed8ff7"
      },
      "execution_count": null,
      "outputs": [
        {
          "output_type": "stream",
          "name": "stdout",
          "text": [
            "/content\n",
            "19\t3051945\t3052046\tHISEQ:143:C3HD9ACXX:1:1111:16785:15285\t60\t-\t3051945\t3052046\t0,0,0\t1\t101,\t0,\t0\n",
            "19\t3079513\t3079614\tHISEQ:143:C3HD9ACXX:1:1313:4086:55328\t60\t+\t3079513\t3079614\t0,0,0\t1\t101,\t0,\t0\n",
            "19\t3081030\t3081131\tHISEQ:143:C3HD9ACXX:1:1306:21228:75283\t1\t+\t3081030\t3081131\t0,0,0\t1\t101,\t0,\t0\n",
            "19\t3081345\t3081446\tHISEQ:143:C3HD9ACXX:1:2308:10282:21952\t1\t+\t3081345\t3081446\t0,0,0\t1\t101,\t0,\t0\n",
            "19\t3083271\t3083372\tHISEQ:143:C3HD9ACXX:1:2108:12122:33544\t60\t-\t3083271\t3083372\t0,0,0\t1\t101,\t0,\t0\n",
            "19\t3083278\t3083379\tHISEQ:143:C3HD9ACXX:1:1115:20825:89715\t1\t-\t3083278\t3083379\t0,0,0\t1\t101,\t0,\t0\n",
            "19\t3083306\t3083407\tHISEQ:143:C3HD9ACXX:1:2309:1373:72196\t1\t-\t3083306\t3083407\t0,0,0\t1\t101,\t0,\t0\n",
            "19\t3083324\t3083425\tHISEQ:143:C3HD9ACXX:1:2309:13623:41500\t1\t-\t3083324\t3083425\t0,0,0\t1\t101,\t0,\t0\n",
            "19\t3083363\t3083464\tHISEQ:143:C3HD9ACXX:1:2116:4368:16272\t1\t+\t3083363\t3083464\t0,0,0\t1\t101,\t0,\t0\n",
            "19\t3083366\t3083467\tHISEQ:143:C3HD9ACXX:1:2110:19271:83885\t1\t+\t3083366\t3083467\t0,0,0\t1\t101,\t0,\t0\n"
          ]
        }
      ]
    },
    {
      "cell_type": "code",
      "source": [
        "# Координаты интронов, подтвержденные хотя бы 1 ридом, попадающие в нужный интервал\n",
        "list = !cat index/coverage.txt | awk '$2>=3324440 && $3<=3329850"
      ],
      "metadata": {
        "id": "3bjew0d-Lely"
      },
      "execution_count": null,
      "outputs": []
    },
    {
      "cell_type": "code",
      "source": [
        "for line in list:\n",
        "  line = line.split('\\t')\n",
        "  print(line[0], ':', line[1], '-', line[2], ' ', line[4], sep='')"
      ],
      "metadata": {
        "colab": {
          "base_uri": "https://localhost:8080/"
        },
        "id": "2_dGtVZ1JbXE",
        "outputId": "6e7f5954-38fe-4e9e-e4d7-fe692883e840"
      },
      "execution_count": null,
      "outputs": [
        {
          "output_type": "stream",
          "name": "stdout",
          "text": [
            "19:3324508-3326808 60\n",
            "19:3324520-3326820 60\n",
            "19:3324523-3326823 60\n",
            "19:3324528-3326828 60\n",
            "19:3324532-3326832 60\n",
            "19:3324548-3326848 60\n",
            "19:3326801-3326902 60\n",
            "19:3326824-3329538 60\n",
            "19:3326836-3329550 60\n",
            "19:3326864-3329578 60\n",
            "19:3326887-3329601 60\n",
            "19:3326887-3329601 60\n",
            "19:3326888-3329602 60\n",
            "19:3326894-3329608 60\n",
            "19:3326897-3329611 60\n",
            "19:3326897-3329611 60\n",
            "19:3326913-3329627 60\n",
            "19:3326915-3329629 60\n",
            "19:3326962-3327063 60\n",
            "19:3327775-3327876 60\n",
            "19:3327776-3327877 60\n",
            "19:3329149-3329250 60\n",
            "19:3329538-3329815 60\n",
            "19:3329569-3329846 60\n",
            "19:3329722-3329823 60\n",
            "19:3329728-3329829 60\n",
            "19:3329729-3329830 60\n"
          ]
        }
      ]
    }
  ]
}